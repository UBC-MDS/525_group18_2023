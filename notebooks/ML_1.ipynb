{
 "cells": [
  {
   "cell_type": "code",
   "execution_count": 1,
   "id": "adffca48-8290-44e3-9521-fefd931a7d24",
   "metadata": {},
   "outputs": [],
   "source": [
    "# import all the packages needed\n",
    "import re\n",
    "import os\n",
    "import glob\n",
    "import zipfile\n",
    "import requests\n",
    "from urllib.request import urlretrieve\n",
    "import json\n",
    "import pandas as pd\n",
    "import numpy as np"
   ]
  },
  {
   "cell_type": "code",
   "execution_count": 2,
   "id": "898c264a-22bb-4a98-855f-b50f8330f32c",
   "metadata": {},
   "outputs": [
    {
     "name": "stdout",
     "output_type": "stream",
     "text": [
      "/Users/chnam/Library/CloudStorage/OneDrive-UBC/DSCI_525/milestone_1\n"
     ]
    }
   ],
   "source": [
    "# Project path\n",
    "## Please change it to the location of your choice\n",
    "%cd \"/Users/chnam/OneDrive - UBC/DSCI_525/milestone_1\""
   ]
  },
  {
   "cell_type": "code",
   "execution_count": 3,
   "id": "71562498-7988-4b2e-b9b8-06a76cece9b1",
   "metadata": {},
   "outputs": [],
   "source": [
    "# Metadata\n",
    "## Article ID of figshare\n",
    "article_id = 14096681  \n",
    "# Beuzen, Tomas (2021): Daily rainfall over NSW, Australia. figshare. Dataset. https://doi.org/10.6084/m9.figshare.14096681.v3\n",
    "\n",
    "## URL\n",
    "url = f\"https://api.figshare.com/v2/articles/{article_id}\"\n",
    "\n",
    "## Header\n",
    "headers = {\"Content-Type\": \"application/json\"}"
   ]
  },
  {
   "cell_type": "code",
   "execution_count": 4,
   "id": "f6789237-89b5-4761-a1c0-4f8ca8854d06",
   "metadata": {},
   "outputs": [],
   "source": [
    "# Change the output directory for the data files\n",
    "output_directory = \"rainforest/\" "
   ]
  },
  {
   "cell_type": "code",
   "execution_count": 5,
   "id": "995ea72e-6b41-4545-a13b-823d847b6c4d",
   "metadata": {},
   "outputs": [
    {
     "data": {
      "text/plain": [
       "[{'id': 26579150,\n",
       "  'name': 'daily_rainfall_2014.png',\n",
       "  'size': 58863,\n",
       "  'is_link_only': False,\n",
       "  'download_url': 'https://ndownloader.figshare.com/files/26579150',\n",
       "  'supplied_md5': 'fd32a2ffde300a31f8d63b1825d47e5e',\n",
       "  'computed_md5': 'fd32a2ffde300a31f8d63b1825d47e5e'},\n",
       " {'id': 26579171,\n",
       "  'name': 'environment.yml',\n",
       "  'size': 192,\n",
       "  'is_link_only': False,\n",
       "  'download_url': 'https://ndownloader.figshare.com/files/26579171',\n",
       "  'supplied_md5': '060b2020017eed93a1ee7dd8c65b2f34',\n",
       "  'computed_md5': '060b2020017eed93a1ee7dd8c65b2f34'},\n",
       " {'id': 26586554,\n",
       "  'name': 'README.md',\n",
       "  'size': 5422,\n",
       "  'is_link_only': False,\n",
       "  'download_url': 'https://ndownloader.figshare.com/files/26586554',\n",
       "  'supplied_md5': '61858c6cc0e6a6d6663a7e4c75bbd88c',\n",
       "  'computed_md5': '61858c6cc0e6a6d6663a7e4c75bbd88c'},\n",
       " {'id': 26766812,\n",
       "  'name': 'data.zip',\n",
       "  'size': 814041183,\n",
       "  'is_link_only': False,\n",
       "  'download_url': 'https://ndownloader.figshare.com/files/26766812',\n",
       "  'supplied_md5': 'b517383f76e77bd03755a63a8ff83ee9',\n",
       "  'computed_md5': 'b517383f76e77bd03755a63a8ff83ee9'},\n",
       " {'id': 26766815,\n",
       "  'name': 'get_data.py',\n",
       "  'size': 4113,\n",
       "  'is_link_only': False,\n",
       "  'download_url': 'https://ndownloader.figshare.com/files/26766815',\n",
       "  'supplied_md5': '7829028495fd9dec9680ea013474afa6',\n",
       "  'computed_md5': '7829028495fd9dec9680ea013474afa6'}]"
      ]
     },
     "execution_count": 5,
     "metadata": {},
     "output_type": "execute_result"
    }
   ],
   "source": [
    "# Send a GET request to list the available files\n",
    "response = requests.request(\"GET\", url, headers=headers)\n",
    "data = json.loads(response.text)  # this contains all the articles data\n",
    "files = data[\"files\"]             # this is just the data about the files\n",
    "files"
   ]
  },
  {
   "cell_type": "code",
   "execution_count": 7,
   "id": "98b62aa3-0dce-4e61-b548-09a688ddb9fb",
   "metadata": {},
   "outputs": [
    {
     "name": "stdout",
     "output_type": "stream",
     "text": [
      "CPU times: user 5.17 s, sys: 9 s, total: 14.2 s\n",
      "Wall time: 13min 21s\n"
     ]
    }
   ],
   "source": [
    "%%time\n",
    "# Download data.zip\n",
    "files_to_dl = [\"data.zip\"]  # data.zip\n",
    "for file in files:\n",
    "    if file[\"name\"] in files_to_dl:\n",
    "        os.makedirs(output_directory, exist_ok=True)\n",
    "        urlretrieve(file[\"download_url\"], output_directory + file[\"name\"])"
   ]
  },
  {
   "cell_type": "code",
   "execution_count": 8,
   "id": "26675f1f-1fee-4ab7-9b9d-11ace1049255",
   "metadata": {},
   "outputs": [
    {
     "name": "stdout",
     "output_type": "stream",
     "text": [
      "CPU times: user 7.35 s, sys: 785 ms, total: 8.14 s\n",
      "Wall time: 8.36 s\n"
     ]
    }
   ],
   "source": [
    "%%time\n",
    "# Extract data.zip\n",
    "with zipfile.ZipFile(os.path.join(output_directory, \"data.zip\"), 'r') as f:\n",
    "    f.extractall(output_directory)"
   ]
  },
  {
   "cell_type": "code",
   "execution_count": 9,
   "id": "7b39ecbc-f140-469e-a132-8456367002da",
   "metadata": {},
   "outputs": [
    {
     "name": "stdout",
     "output_type": "stream",
     "text": [
      "total 24696800\n",
      "drwxr-xr-x  30 chnam  staff         960 Mar 28 14:33 \u001b[1m\u001b[34m__MACOSX\u001b[m\u001b[m/\n",
      "-rw-r--r--   1 chnam  staff  6475225405 Mar 28 14:50 combined.csv\n",
      "-rw-r--r--   1 chnam  staff   814041183 Mar 28 16:19 data.zip\n",
      "-rw-r--r--   1 chnam  staff    95376895 Mar 28 16:19 MPI-ESM-1-2-HAM_daily_rainfall_NSW.csv\n",
      "-rw-r--r--@  1 chnam  staff    94960113 Mar 28 16:19 AWI-ESM-1-1-LR_daily_rainfall_NSW.csv\n",
      "-rw-r--r--@  1 chnam  staff    82474546 Mar 28 16:19 NorESM2-LM_daily_rainfall_NSW.csv\n",
      "-rw-r--r--@  1 chnam  staff   127613760 Mar 28 16:19 ACCESS-CM2_daily_rainfall_NSW.csv\n",
      "-rw-r--r--@  1 chnam  staff   232118894 Mar 28 16:19 FGOALS-f3-L_daily_rainfall_NSW.csv\n",
      "-rw-r--r--@  1 chnam  staff   330360682 Mar 28 16:19 CMCC-CM2-HR4_daily_rainfall_NSW.csv\n",
      "-rw-r--r--@  1 chnam  staff   254009247 Mar 28 16:19 MRI-ESM2-0_daily_rainfall_NSW.csv\n",
      "-rw-r--r--@  1 chnam  staff   235661418 Mar 28 16:19 GFDL-CM4_daily_rainfall_NSW.csv\n",
      "-rw-r--r--@  1 chnam  staff   294260911 Mar 28 16:19 BCC-CSM2-MR_daily_rainfall_NSW.csv\n",
      "-rw-r--r--@  1 chnam  staff   295768615 Mar 28 16:19 EC-Earth3-Veg-LR_daily_rainfall_NSW.csv\n",
      "-rw-r--r--@  1 chnam  staff   328852379 Mar 28 16:19 CMCC-ESM2_daily_rainfall_NSW.csv\n",
      "-rw-r--r--@  1 chnam  staff    67784105 Mar 28 16:19 NESM3_daily_rainfall_NSW.csv\n",
      "-rw-r--r--@  1 chnam  staff    95640682 Mar 28 16:19 MPI-ESM1-2-LR_daily_rainfall_NSW.csv\n",
      "-rw-r--r--@  1 chnam  staff   114707410 Mar 28 16:19 ACCESS-ESM1-5_daily_rainfall_NSW.csv\n",
      "-rw-r--r--@  1 chnam  staff   116179272 Mar 28 16:19 FGOALS-g3_daily_rainfall_NSW.csv\n",
      "-rw-r--r--@  1 chnam  staff   102517965 Mar 28 16:19 INM-CM4-8_daily_rainfall_NSW.csv\n",
      "-rw-r--r--@  1 chnam  staff   515458033 Mar 28 16:19 MPI-ESM1-2-HR_daily_rainfall_NSW.csv\n",
      "-rw-r--r--@  1 chnam  staff   332813281 Mar 28 16:19 TaiESM1_daily_rainfall_NSW.csv\n",
      "-rw-r--r--@  1 chnam  staff   337555851 Mar 28 16:19 NorESM2-MM_daily_rainfall_NSW.csv\n",
      "-rw-r--r--@  1 chnam  staff   328787320 Mar 28 16:19 CMCC-CM2-SR5_daily_rainfall_NSW.csv\n",
      "-rw-r--r--@  1 chnam  staff      952202 Mar 28 16:19 observed_daily_rainfall_SYD.csv\n",
      "-rw-r--r--@  1 chnam  staff    93829697 Mar 28 16:19 KIOST-ESM_daily_rainfall_NSW.csv\n",
      "-rw-r--r--@  1 chnam  staff   102692289 Mar 28 16:19 INM-CM5-0_daily_rainfall_NSW.csv\n",
      "-rw-r--r--@  1 chnam  staff   206822938 Mar 28 16:19 MIROC6_daily_rainfall_NSW.csv\n",
      "-rw-r--r--@  1 chnam  staff    55224437 Mar 28 16:19 BCC-ESM1_daily_rainfall_NSW.csv\n",
      "-rw-r--r--@  1 chnam  staff   124586961 Mar 28 16:19 GFDL-ESM4_daily_rainfall_NSW.csv\n",
      "-rw-r--r--@  1 chnam  staff    46286371 Mar 28 16:19 CanESM5_daily_rainfall_NSW.csv\n",
      "-rw-r--r--@  1 chnam  staff   333489879 Mar 28 16:19 SAM0-UNICON_daily_rainfall_NSW.csv\n"
     ]
    }
   ],
   "source": [
    "# List the folder\n",
    "%ls -ltr rainforest"
   ]
  },
  {
   "cell_type": "code",
   "execution_count": 10,
   "id": "798733e3-dca3-488c-87ba-df39f2d4b9bb",
   "metadata": {},
   "outputs": [
    {
     "data": {
      "text/plain": [
       "['rainforest/MPI-ESM-1-2-HAM_daily_rainfall_NSW.csv',\n",
       " 'rainforest/AWI-ESM-1-1-LR_daily_rainfall_NSW.csv',\n",
       " 'rainforest/NorESM2-LM_daily_rainfall_NSW.csv',\n",
       " 'rainforest/ACCESS-CM2_daily_rainfall_NSW.csv',\n",
       " 'rainforest/FGOALS-f3-L_daily_rainfall_NSW.csv',\n",
       " 'rainforest/CMCC-CM2-HR4_daily_rainfall_NSW.csv',\n",
       " 'rainforest/MRI-ESM2-0_daily_rainfall_NSW.csv',\n",
       " 'rainforest/GFDL-CM4_daily_rainfall_NSW.csv',\n",
       " 'rainforest/BCC-CSM2-MR_daily_rainfall_NSW.csv',\n",
       " 'rainforest/EC-Earth3-Veg-LR_daily_rainfall_NSW.csv',\n",
       " 'rainforest/CMCC-ESM2_daily_rainfall_NSW.csv',\n",
       " 'rainforest/NESM3_daily_rainfall_NSW.csv',\n",
       " 'rainforest/MPI-ESM1-2-LR_daily_rainfall_NSW.csv',\n",
       " 'rainforest/ACCESS-ESM1-5_daily_rainfall_NSW.csv',\n",
       " 'rainforest/FGOALS-g3_daily_rainfall_NSW.csv',\n",
       " 'rainforest/INM-CM4-8_daily_rainfall_NSW.csv',\n",
       " 'rainforest/MPI-ESM1-2-HR_daily_rainfall_NSW.csv',\n",
       " 'rainforest/TaiESM1_daily_rainfall_NSW.csv',\n",
       " 'rainforest/NorESM2-MM_daily_rainfall_NSW.csv',\n",
       " 'rainforest/CMCC-CM2-SR5_daily_rainfall_NSW.csv',\n",
       " 'rainforest/combined.csv',\n",
       " 'rainforest/observed_daily_rainfall_SYD.csv',\n",
       " 'rainforest/KIOST-ESM_daily_rainfall_NSW.csv',\n",
       " 'rainforest/INM-CM5-0_daily_rainfall_NSW.csv',\n",
       " 'rainforest/MIROC6_daily_rainfall_NSW.csv',\n",
       " 'rainforest/BCC-ESM1_daily_rainfall_NSW.csv',\n",
       " 'rainforest/GFDL-ESM4_daily_rainfall_NSW.csv',\n",
       " 'rainforest/CanESM5_daily_rainfall_NSW.csv',\n",
       " 'rainforest/SAM0-UNICON_daily_rainfall_NSW.csv']"
      ]
     },
     "execution_count": 10,
     "metadata": {},
     "output_type": "execute_result"
    }
   ],
   "source": [
    "# Show a list of paths\n",
    "files = glob.glob('rainforest/*.csv')\n",
    "files"
   ]
  },
  {
   "cell_type": "code",
   "execution_count": 17,
   "id": "8a06be4f-851e-4da8-9ebb-8f6c52d81db5",
   "metadata": {},
   "outputs": [
    {
     "data": {
      "text/plain": [
       "['time', 'lat_min', 'lat_max', 'lon_min', 'lon_max', 'rain (mm/day)']"
      ]
     },
     "execution_count": 17,
     "metadata": {},
     "output_type": "execute_result"
    }
   ],
   "source": [
    "# Show the columns available in a data file\n",
    "sample1 = pd.read_csv('rainforest/SAM0-UNICON_daily_rainfall_NSW.csv')\n",
    "cols = sample1.columns.to_list()\n",
    "cols"
   ]
  },
  {
   "cell_type": "code",
   "execution_count": 33,
   "id": "64b2acba-0633-4187-a5b7-a723762f9219",
   "metadata": {},
   "outputs": [
    {
     "name": "stdout",
     "output_type": "stream",
     "text": [
      "CPU times: user 3min 29s, sys: 11.5 s, total: 3min 40s\n",
      "Wall time: 3min 41s\n"
     ]
    }
   ],
   "source": [
    "%%time\n",
    "## Combine data CSVs into a single CSV using pandas\n",
    "files = glob.glob('rainforest/*.csv')\n",
    "excluded_files = ['rainforest/observed_daily_rainfall_SYD.csv', 'rainforest/combined.csv']\n",
    "\n",
    "df = pd.concat((pd.read_csv(file,\n",
    "                            index_col=False, \n",
    "                            usecols=cols,\n",
    "                            # low_memory = False\n",
    "                           )\n",
    "                .assign(model=re.findall('/([^_]*)', file)[0]) # find the model name before the first underscore and assign it to \"model\"\n",
    "                for file in files if file not in excluded_files # do not include observed_daily_rainfall_SYD.csv and combined.csv\n",
    "               )\n",
    "              )\n",
    "df.to_csv(\"rainforest/combined.csv\")"
   ]
  },
  {
   "cell_type": "code",
   "execution_count": 34,
   "id": "6a9f3a0f-99a4-404f-90cf-317da5a33075",
   "metadata": {},
   "outputs": [
    {
     "data": {
      "text/plain": [
       "(62467843, 7)"
      ]
     },
     "execution_count": 34,
     "metadata": {},
     "output_type": "execute_result"
    }
   ],
   "source": [
    "df.shape"
   ]
  },
  {
   "cell_type": "code",
   "execution_count": 35,
   "id": "e357d171",
   "metadata": {},
   "outputs": [
    {
     "data": {
      "text/html": [
       "<div>\n",
       "<style scoped>\n",
       "    .dataframe tbody tr th:only-of-type {\n",
       "        vertical-align: middle;\n",
       "    }\n",
       "\n",
       "    .dataframe tbody tr th {\n",
       "        vertical-align: top;\n",
       "    }\n",
       "\n",
       "    .dataframe thead th {\n",
       "        text-align: right;\n",
       "    }\n",
       "</style>\n",
       "<table border=\"1\" class=\"dataframe\">\n",
       "  <thead>\n",
       "    <tr style=\"text-align: right;\">\n",
       "      <th></th>\n",
       "      <th>time</th>\n",
       "      <th>lat_min</th>\n",
       "      <th>lat_max</th>\n",
       "      <th>lon_min</th>\n",
       "      <th>lon_max</th>\n",
       "      <th>rain (mm/day)</th>\n",
       "      <th>model</th>\n",
       "    </tr>\n",
       "  </thead>\n",
       "  <tbody>\n",
       "    <tr>\n",
       "      <th>0</th>\n",
       "      <td>1889-01-01 12:00:00</td>\n",
       "      <td>-35.439867</td>\n",
       "      <td>-33.574619</td>\n",
       "      <td>141.5625</td>\n",
       "      <td>143.4375</td>\n",
       "      <td>4.244226e-13</td>\n",
       "      <td>MPI-ESM-1-2-HAM</td>\n",
       "    </tr>\n",
       "    <tr>\n",
       "      <th>1</th>\n",
       "      <td>1889-01-02 12:00:00</td>\n",
       "      <td>-35.439867</td>\n",
       "      <td>-33.574619</td>\n",
       "      <td>141.5625</td>\n",
       "      <td>143.4375</td>\n",
       "      <td>4.217326e-13</td>\n",
       "      <td>MPI-ESM-1-2-HAM</td>\n",
       "    </tr>\n",
       "    <tr>\n",
       "      <th>2</th>\n",
       "      <td>1889-01-03 12:00:00</td>\n",
       "      <td>-35.439867</td>\n",
       "      <td>-33.574619</td>\n",
       "      <td>141.5625</td>\n",
       "      <td>143.4375</td>\n",
       "      <td>4.498125e-13</td>\n",
       "      <td>MPI-ESM-1-2-HAM</td>\n",
       "    </tr>\n",
       "    <tr>\n",
       "      <th>3</th>\n",
       "      <td>1889-01-04 12:00:00</td>\n",
       "      <td>-35.439867</td>\n",
       "      <td>-33.574619</td>\n",
       "      <td>141.5625</td>\n",
       "      <td>143.4375</td>\n",
       "      <td>4.251282e-13</td>\n",
       "      <td>MPI-ESM-1-2-HAM</td>\n",
       "    </tr>\n",
       "    <tr>\n",
       "      <th>4</th>\n",
       "      <td>1889-01-05 12:00:00</td>\n",
       "      <td>-35.439867</td>\n",
       "      <td>-33.574619</td>\n",
       "      <td>141.5625</td>\n",
       "      <td>143.4375</td>\n",
       "      <td>4.270161e-13</td>\n",
       "      <td>MPI-ESM-1-2-HAM</td>\n",
       "    </tr>\n",
       "  </tbody>\n",
       "</table>\n",
       "</div>"
      ],
      "text/plain": [
       "                  time    lat_min    lat_max   lon_min   lon_max  \\\n",
       "0  1889-01-01 12:00:00 -35.439867 -33.574619  141.5625  143.4375   \n",
       "1  1889-01-02 12:00:00 -35.439867 -33.574619  141.5625  143.4375   \n",
       "2  1889-01-03 12:00:00 -35.439867 -33.574619  141.5625  143.4375   \n",
       "3  1889-01-04 12:00:00 -35.439867 -33.574619  141.5625  143.4375   \n",
       "4  1889-01-05 12:00:00 -35.439867 -33.574619  141.5625  143.4375   \n",
       "\n",
       "   rain (mm/day)            model  \n",
       "0   4.244226e-13  MPI-ESM-1-2-HAM  \n",
       "1   4.217326e-13  MPI-ESM-1-2-HAM  \n",
       "2   4.498125e-13  MPI-ESM-1-2-HAM  \n",
       "3   4.251282e-13  MPI-ESM-1-2-HAM  \n",
       "4   4.270161e-13  MPI-ESM-1-2-HAM  "
      ]
     },
     "execution_count": 35,
     "metadata": {},
     "output_type": "execute_result"
    }
   ],
   "source": [
    "df.head()"
   ]
  },
  {
   "cell_type": "code",
   "execution_count": 36,
   "id": "06da3800",
   "metadata": {},
   "outputs": [],
   "source": [
    "# Convert to float32\n",
    "df32 = df.astype('float32', errors='ignore')"
   ]
  },
  {
   "cell_type": "code",
   "execution_count": 37,
   "id": "07445215-3c51-4bf8-94b0-52aef8386769",
   "metadata": {},
   "outputs": [
    {
     "name": "stdout",
     "output_type": "stream",
     "text": [
      "Memory usage with float64: 3997.94 MB\n",
      "Memory usage with float32: 2748.59 MB\n"
     ]
    }
   ],
   "source": [
    "# Check memory usage\n",
    "print(f\"Memory usage with float64: {df.memory_usage().sum() / 1e6:.2f} MB\")\n",
    "print(f\"Memory usage with float32: {df32.memory_usage().sum() / 1e6:.2f} MB\")"
   ]
  },
  {
   "cell_type": "code",
   "execution_count": 42,
   "id": "ef3cef55-daf9-43bc-8d43-4c22e016a21d",
   "metadata": {},
   "outputs": [
    {
     "name": "stdout",
     "output_type": "stream",
     "text": [
      "CPU times: user 15.6 s, sys: 1.06 s, total: 16.6 s\n",
      "Wall time: 16.7 s\n"
     ]
    }
   ],
   "source": [
    "%%time\n",
    "# EDA (load data - select columns, change dtype)\n",
    "use_cols = ['rain (mm/day)', 'model']\n",
    "\n",
    "df32 = pd.read_csv(\"rainforest/combined.csv\",\n",
    "                   usecols=use_cols,\n",
    "                   dtype={'rain (mm/day)':'float32', 'model':'str'})"
   ]
  },
  {
   "cell_type": "code",
   "execution_count": 43,
   "id": "2606593f-c87f-4146-8577-a0e05a04d6dd",
   "metadata": {},
   "outputs": [
    {
     "name": "stdout",
     "output_type": "stream",
     "text": [
      "CPU times: user 1.73 s, sys: 269 ms, total: 2 s\n",
      "Wall time: 2.01 s\n"
     ]
    },
    {
     "data": {
      "text/html": [
       "<div>\n",
       "<style scoped>\n",
       "    .dataframe tbody tr th:only-of-type {\n",
       "        vertical-align: middle;\n",
       "    }\n",
       "\n",
       "    .dataframe tbody tr th {\n",
       "        vertical-align: top;\n",
       "    }\n",
       "\n",
       "    .dataframe thead th {\n",
       "        text-align: right;\n",
       "    }\n",
       "</style>\n",
       "<table border=\"1\" class=\"dataframe\">\n",
       "  <thead>\n",
       "    <tr style=\"text-align: right;\">\n",
       "      <th></th>\n",
       "      <th>rain (mm/day)</th>\n",
       "    </tr>\n",
       "  </thead>\n",
       "  <tbody>\n",
       "    <tr>\n",
       "      <th>count</th>\n",
       "      <td>5.924854e+07</td>\n",
       "    </tr>\n",
       "    <tr>\n",
       "      <th>mean</th>\n",
       "      <td>1.901173e+00</td>\n",
       "    </tr>\n",
       "    <tr>\n",
       "      <th>std</th>\n",
       "      <td>5.585735e+00</td>\n",
       "    </tr>\n",
       "    <tr>\n",
       "      <th>min</th>\n",
       "      <td>-3.807373e-12</td>\n",
       "    </tr>\n",
       "    <tr>\n",
       "      <th>25%</th>\n",
       "      <td>3.838413e-06</td>\n",
       "    </tr>\n",
       "    <tr>\n",
       "      <th>50%</th>\n",
       "      <td>6.154947e-02</td>\n",
       "    </tr>\n",
       "    <tr>\n",
       "      <th>75%</th>\n",
       "      <td>1.020918e+00</td>\n",
       "    </tr>\n",
       "    <tr>\n",
       "      <th>max</th>\n",
       "      <td>4.329395e+02</td>\n",
       "    </tr>\n",
       "  </tbody>\n",
       "</table>\n",
       "</div>"
      ],
      "text/plain": [
       "       rain (mm/day)\n",
       "count   5.924854e+07\n",
       "mean    1.901173e+00\n",
       "std     5.585735e+00\n",
       "min    -3.807373e-12\n",
       "25%     3.838413e-06\n",
       "50%     6.154947e-02\n",
       "75%     1.020918e+00\n",
       "max     4.329395e+02"
      ]
     },
     "execution_count": 43,
     "metadata": {},
     "output_type": "execute_result"
    }
   ],
   "source": [
    "%%time\n",
    "# EDA (.describe())\n",
    "df32.describe()"
   ]
  },
  {
   "cell_type": "code",
   "execution_count": 44,
   "id": "8c5c5233-c2ae-4692-82e1-9b59bd022aac",
   "metadata": {},
   "outputs": [
    {
     "name": "stdout",
     "output_type": "stream",
     "text": [
      "CPU times: user 2.74 s, sys: 287 ms, total: 3.03 s\n",
      "Wall time: 3.03 s\n"
     ]
    },
    {
     "data": {
      "text/html": [
       "<div>\n",
       "<style scoped>\n",
       "    .dataframe tbody tr th:only-of-type {\n",
       "        vertical-align: middle;\n",
       "    }\n",
       "\n",
       "    .dataframe tbody tr th {\n",
       "        vertical-align: top;\n",
       "    }\n",
       "\n",
       "    .dataframe thead th {\n",
       "        text-align: right;\n",
       "    }\n",
       "</style>\n",
       "<table border=\"1\" class=\"dataframe\">\n",
       "  <thead>\n",
       "    <tr style=\"text-align: right;\">\n",
       "      <th></th>\n",
       "      <th>mean</th>\n",
       "      <th>max</th>\n",
       "      <th>min</th>\n",
       "      <th>median</th>\n",
       "    </tr>\n",
       "    <tr>\n",
       "      <th>model</th>\n",
       "      <th></th>\n",
       "      <th></th>\n",
       "      <th></th>\n",
       "      <th></th>\n",
       "    </tr>\n",
       "  </thead>\n",
       "  <tbody>\n",
       "    <tr>\n",
       "      <th>ACCESS-CM2</th>\n",
       "      <td>1.787025</td>\n",
       "      <td>432.939514</td>\n",
       "      <td>0.000000e+00</td>\n",
       "      <td>1.002723e-01</td>\n",
       "    </tr>\n",
       "    <tr>\n",
       "      <th>ACCESS-ESM1-5</th>\n",
       "      <td>2.217501</td>\n",
       "      <td>202.028320</td>\n",
       "      <td>-3.049319e-18</td>\n",
       "      <td>1.345675e-01</td>\n",
       "    </tr>\n",
       "    <tr>\n",
       "      <th>AWI-ESM-1-1-LR</th>\n",
       "      <td>2.026071</td>\n",
       "      <td>89.465752</td>\n",
       "      <td>9.065210e-14</td>\n",
       "      <td>4.426399e-02</td>\n",
       "    </tr>\n",
       "    <tr>\n",
       "      <th>BCC-CSM2-MR</th>\n",
       "      <td>1.951832</td>\n",
       "      <td>286.226685</td>\n",
       "      <td>3.766800e-24</td>\n",
       "      <td>4.321701e-02</td>\n",
       "    </tr>\n",
       "    <tr>\n",
       "      <th>BCC-ESM1</th>\n",
       "      <td>1.811032</td>\n",
       "      <td>164.058594</td>\n",
       "      <td>9.260347e-25</td>\n",
       "      <td>1.091290e-02</td>\n",
       "    </tr>\n",
       "    <tr>\n",
       "      <th>CMCC-CM2-HR4</th>\n",
       "      <td>2.279350</td>\n",
       "      <td>224.154388</td>\n",
       "      <td>0.000000e+00</td>\n",
       "      <td>2.687256e-01</td>\n",
       "    </tr>\n",
       "    <tr>\n",
       "      <th>CMCC-CM2-SR5</th>\n",
       "      <td>2.383389</td>\n",
       "      <td>202.845825</td>\n",
       "      <td>-4.077885e-13</td>\n",
       "      <td>2.171495e-01</td>\n",
       "    </tr>\n",
       "    <tr>\n",
       "      <th>CMCC-ESM2</th>\n",
       "      <td>2.266125</td>\n",
       "      <td>230.226547</td>\n",
       "      <td>-7.874900e-14</td>\n",
       "      <td>2.028418e-01</td>\n",
       "    </tr>\n",
       "    <tr>\n",
       "      <th>CanESM5</th>\n",
       "      <td>1.894328</td>\n",
       "      <td>173.812790</td>\n",
       "      <td>0.000000e+00</td>\n",
       "      <td>8.639221e-02</td>\n",
       "    </tr>\n",
       "    <tr>\n",
       "      <th>EC-Earth3-Veg-LR</th>\n",
       "      <td>1.516258</td>\n",
       "      <td>181.363754</td>\n",
       "      <td>-1.117158e-18</td>\n",
       "      <td>9.804963e-03</td>\n",
       "    </tr>\n",
       "    <tr>\n",
       "      <th>FGOALS-f3-L</th>\n",
       "      <td>1.627373</td>\n",
       "      <td>221.926300</td>\n",
       "      <td>0.000000e+00</td>\n",
       "      <td>2.216971e-02</td>\n",
       "    </tr>\n",
       "    <tr>\n",
       "      <th>FGOALS-g3</th>\n",
       "      <td>2.156420</td>\n",
       "      <td>231.048218</td>\n",
       "      <td>0.000000e+00</td>\n",
       "      <td>1.972944e-01</td>\n",
       "    </tr>\n",
       "    <tr>\n",
       "      <th>GFDL-CM4</th>\n",
       "      <td>1.414485</td>\n",
       "      <td>213.009964</td>\n",
       "      <td>0.000000e+00</td>\n",
       "      <td>1.884592e-02</td>\n",
       "    </tr>\n",
       "    <tr>\n",
       "      <th>GFDL-ESM4</th>\n",
       "      <td>NaN</td>\n",
       "      <td>NaN</td>\n",
       "      <td>NaN</td>\n",
       "      <td>NaN</td>\n",
       "    </tr>\n",
       "    <tr>\n",
       "      <th>INM-CM4-8</th>\n",
       "      <td>2.811463</td>\n",
       "      <td>213.416672</td>\n",
       "      <td>0.000000e+00</td>\n",
       "      <td>5.721548e-01</td>\n",
       "    </tr>\n",
       "    <tr>\n",
       "      <th>INM-CM5-0</th>\n",
       "      <td>2.669012</td>\n",
       "      <td>183.777847</td>\n",
       "      <td>0.000000e+00</td>\n",
       "      <td>4.226088e-01</td>\n",
       "    </tr>\n",
       "    <tr>\n",
       "      <th>KIOST-ESM</th>\n",
       "      <td>1.102353</td>\n",
       "      <td>171.087097</td>\n",
       "      <td>0.000000e+00</td>\n",
       "      <td>2.348028e-02</td>\n",
       "    </tr>\n",
       "    <tr>\n",
       "      <th>MIROC6</th>\n",
       "      <td>2.301661</td>\n",
       "      <td>226.551758</td>\n",
       "      <td>2.131704e-32</td>\n",
       "      <td>1.335269e-01</td>\n",
       "    </tr>\n",
       "    <tr>\n",
       "      <th>MPI-ESM-1-2-HAM</th>\n",
       "      <td>1.610720</td>\n",
       "      <td>94.270782</td>\n",
       "      <td>3.269844e-13</td>\n",
       "      <td>4.706947e-13</td>\n",
       "    </tr>\n",
       "    <tr>\n",
       "      <th>MPI-ESM1-2-HR</th>\n",
       "      <td>0.995569</td>\n",
       "      <td>165.985565</td>\n",
       "      <td>1.086636e-13</td>\n",
       "      <td>1.561897e-13</td>\n",
       "    </tr>\n",
       "    <tr>\n",
       "      <th>MPI-ESM1-2-LR</th>\n",
       "      <td>1.074309</td>\n",
       "      <td>83.957893</td>\n",
       "      <td>9.032559e-14</td>\n",
       "      <td>1.393234e-13</td>\n",
       "    </tr>\n",
       "    <tr>\n",
       "      <th>MRI-ESM2-0</th>\n",
       "      <td>1.368030</td>\n",
       "      <td>155.997467</td>\n",
       "      <td>0.000000e+00</td>\n",
       "      <td>4.738757e-03</td>\n",
       "    </tr>\n",
       "    <tr>\n",
       "      <th>NESM3</th>\n",
       "      <td>1.621936</td>\n",
       "      <td>113.945679</td>\n",
       "      <td>1.417632e-13</td>\n",
       "      <td>6.627137e-03</td>\n",
       "    </tr>\n",
       "    <tr>\n",
       "      <th>NorESM2-LM</th>\n",
       "      <td>2.230799</td>\n",
       "      <td>131.410217</td>\n",
       "      <td>0.000000e+00</td>\n",
       "      <td>9.282670e-02</td>\n",
       "    </tr>\n",
       "    <tr>\n",
       "      <th>NorESM2-MM</th>\n",
       "      <td>2.232966</td>\n",
       "      <td>263.833679</td>\n",
       "      <td>0.000000e+00</td>\n",
       "      <td>8.187802e-02</td>\n",
       "    </tr>\n",
       "    <tr>\n",
       "      <th>SAM0-UNICON</th>\n",
       "      <td>2.169676</td>\n",
       "      <td>208.259750</td>\n",
       "      <td>-4.866322e-14</td>\n",
       "      <td>6.444909e-02</td>\n",
       "    </tr>\n",
       "    <tr>\n",
       "      <th>TaiESM1</th>\n",
       "      <td>2.224576</td>\n",
       "      <td>200.510361</td>\n",
       "      <td>-3.807373e-12</td>\n",
       "      <td>1.167243e-01</td>\n",
       "    </tr>\n",
       "  </tbody>\n",
       "</table>\n",
       "</div>"
      ],
      "text/plain": [
       "                      mean         max           min        median\n",
       "model                                                             \n",
       "ACCESS-CM2        1.787025  432.939514  0.000000e+00  1.002723e-01\n",
       "ACCESS-ESM1-5     2.217501  202.028320 -3.049319e-18  1.345675e-01\n",
       "AWI-ESM-1-1-LR    2.026071   89.465752  9.065210e-14  4.426399e-02\n",
       "BCC-CSM2-MR       1.951832  286.226685  3.766800e-24  4.321701e-02\n",
       "BCC-ESM1          1.811032  164.058594  9.260347e-25  1.091290e-02\n",
       "CMCC-CM2-HR4      2.279350  224.154388  0.000000e+00  2.687256e-01\n",
       "CMCC-CM2-SR5      2.383389  202.845825 -4.077885e-13  2.171495e-01\n",
       "CMCC-ESM2         2.266125  230.226547 -7.874900e-14  2.028418e-01\n",
       "CanESM5           1.894328  173.812790  0.000000e+00  8.639221e-02\n",
       "EC-Earth3-Veg-LR  1.516258  181.363754 -1.117158e-18  9.804963e-03\n",
       "FGOALS-f3-L       1.627373  221.926300  0.000000e+00  2.216971e-02\n",
       "FGOALS-g3         2.156420  231.048218  0.000000e+00  1.972944e-01\n",
       "GFDL-CM4          1.414485  213.009964  0.000000e+00  1.884592e-02\n",
       "GFDL-ESM4              NaN         NaN           NaN           NaN\n",
       "INM-CM4-8         2.811463  213.416672  0.000000e+00  5.721548e-01\n",
       "INM-CM5-0         2.669012  183.777847  0.000000e+00  4.226088e-01\n",
       "KIOST-ESM         1.102353  171.087097  0.000000e+00  2.348028e-02\n",
       "MIROC6            2.301661  226.551758  2.131704e-32  1.335269e-01\n",
       "MPI-ESM-1-2-HAM   1.610720   94.270782  3.269844e-13  4.706947e-13\n",
       "MPI-ESM1-2-HR     0.995569  165.985565  1.086636e-13  1.561897e-13\n",
       "MPI-ESM1-2-LR     1.074309   83.957893  9.032559e-14  1.393234e-13\n",
       "MRI-ESM2-0        1.368030  155.997467  0.000000e+00  4.738757e-03\n",
       "NESM3             1.621936  113.945679  1.417632e-13  6.627137e-03\n",
       "NorESM2-LM        2.230799  131.410217  0.000000e+00  9.282670e-02\n",
       "NorESM2-MM        2.232966  263.833679  0.000000e+00  8.187802e-02\n",
       "SAM0-UNICON       2.169676  208.259750 -4.866322e-14  6.444909e-02\n",
       "TaiESM1           2.224576  200.510361 -3.807373e-12  1.167243e-01"
      ]
     },
     "execution_count": 44,
     "metadata": {},
     "output_type": "execute_result"
    }
   ],
   "source": [
    "%%time\n",
    "# EDA (get mean, max, min, median by model)\n",
    "df32.groupby('model')['rain (mm/day)'].agg(['mean', 'max', 'min', 'median'])"
   ]
  },
  {
   "cell_type": "code",
   "execution_count": 45,
   "id": "db3b4a2a",
   "metadata": {},
   "outputs": [],
   "source": [
    "# import for R. Please change the path by referring to the result of `conda run -n 525_2023 python -m site`\n",
    "import os\n",
    "os.environ['R_HOME'] = '/opt/miniconda3/envs/525/lib/R'"
   ]
  },
  {
   "cell_type": "code",
   "execution_count": 46,
   "id": "9323a327-0e1a-475f-9d39-c28fcfa8e48e",
   "metadata": {},
   "outputs": [],
   "source": [
    "%load_ext rpy2.ipython"
   ]
  },
  {
   "cell_type": "code",
   "execution_count": 47,
   "id": "dbcdf9ba-25e6-4c14-b900-f30974e4608e",
   "metadata": {},
   "outputs": [
    {
     "name": "stdout",
     "output_type": "stream",
     "text": [
      "/Users/chnam/Library/CloudStorage/OneDrive-UBC/DSCI_525/milestone_1\n"
     ]
    }
   ],
   "source": [
    "# Please change the path for the data files\n",
    "%cd /Users/chnam/OneDrive - UBC/DSCI_525/milestone_1/"
   ]
  },
  {
   "cell_type": "code",
   "execution_count": 48,
   "id": "ce2587e3-a7b4-4627-85b0-1f915f325258",
   "metadata": {},
   "outputs": [],
   "source": [
    "%%R\n",
    "suppressMessages(library(dplyr))\n",
    "suppressMessages(library(readr))"
   ]
  },
  {
   "cell_type": "code",
   "execution_count": 49,
   "id": "5545137a-f7db-44cc-ae9c-35955c195f5d",
   "metadata": {},
   "outputs": [],
   "source": [
    "# Use R and python interchangeably (with arrow)\n",
    "import pyarrow.dataset as ds\n",
    "import rpy2_arrow.pyarrow_rarrow as pyra"
   ]
  },
  {
   "cell_type": "code",
   "execution_count": 61,
   "id": "606a5b7f-51d3-44ba-a157-ad6b2f440dcd",
   "metadata": {},
   "outputs": [
    {
     "name": "stdout",
     "output_type": "stream",
     "text": [
      "CPU times: user 12.3 s, sys: 1.36 s, total: 13.7 s\n",
      "Wall time: 12.8 s\n"
     ]
    }
   ],
   "source": [
    "%%time\n",
    "dataset = ds.dataset(\"rainforest/combined.csv\", format=\"csv\")\n",
    "\n",
    "# Converting the `pyarrow dataset` to a `pyarrow table`\n",
    "table = dataset.to_table()\n",
    "\n",
    "# Converting a `pyarrow table` to a `rarrow table`\n",
    "r_table = pyra.converter.py2rpy(table)"
   ]
  },
  {
   "cell_type": "code",
   "execution_count": null,
   "id": "4c06e232-29d5-4286-bb38-46478566a25e",
   "metadata": {},
   "outputs": [],
   "source": [
    "%%R -i r_table\n",
    "result <- r_table %>% count(lat_min)\n",
    "print(result %>% collect())"
   ]
  },
  {
   "cell_type": "code",
   "execution_count": null,
   "id": "4a32dd24-e08d-487b-b981-3a1ee8cf13fd",
   "metadata": {},
   "outputs": [],
   "source": [
    "%%time\n",
    "%%R -i r_table\n",
    "start_time <- Sys.time()\n",
    "result <- r_table %>%\n",
    "    group_by(model) %>%\n",
    "    summarize(count = n())\n",
    "end_time <- Sys.time()\n",
    "print(result %>% collect())\n",
    "print(end_time - start_time)"
   ]
  },
  {
   "cell_type": "code",
   "execution_count": null,
   "id": "124346e6-f9d9-426b-84ff-545d906b61da",
   "metadata": {},
   "outputs": [],
   "source": []
  }
 ],
 "metadata": {
  "kernelspec": {
   "display_name": "Python [conda env:525]",
   "language": "python",
   "name": "conda-env-525-py"
  },
  "language_info": {
   "codemirror_mode": {
    "name": "ipython",
    "version": 3
   },
   "file_extension": ".py",
   "mimetype": "text/x-python",
   "name": "python",
   "nbconvert_exporter": "python",
   "pygments_lexer": "ipython3",
   "version": "3.10.10"
  }
 },
 "nbformat": 4,
 "nbformat_minor": 5
}
