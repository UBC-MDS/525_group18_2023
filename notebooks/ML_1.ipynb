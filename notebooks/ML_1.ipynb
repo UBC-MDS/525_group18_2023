{
 "cells": [
  {
   "cell_type": "markdown",
   "id": "e2d910f4-2294-492a-a7cd-7c605ab25302",
   "metadata": {},
   "source": [
    "# Milestone 1: Tackling big data on your lab"
   ]
  },
  {
   "cell_type": "markdown",
   "id": "863f9923-41b4-4add-8904-729ecb1661ac",
   "metadata": {},
   "source": [
    "In this exercise we are different data to analyze a big data set locally. We are loading a data set on [figshare](https://figshare.com/articles/dataset/Daily_rainfall_over_NSW_Australia/14096681) reporting the time we needed to run the analyses in our groupmates' laptops."
   ]
  },
  {
   "cell_type": "markdown",
   "id": "0b638918-2c5a-4cdd-a3c2-8f6313a06838",
   "metadata": {},
   "source": [
    "## Basic set-ups"
   ]
  },
  {
   "cell_type": "code",
   "execution_count": 1,
   "id": "adffca48-8290-44e3-9521-fefd931a7d24",
   "metadata": {},
   "outputs": [],
   "source": [
    "# import all the packages needed\n",
    "import re\n",
    "import os\n",
    "import glob\n",
    "import zipfile\n",
    "import requests\n",
    "from urllib.request import urlretrieve\n",
    "import json\n",
    "import pandas as pd\n",
    "import numpy as np"
   ]
  },
  {
   "cell_type": "code",
   "execution_count": 2,
   "id": "898c264a-22bb-4a98-855f-b50f8330f32c",
   "metadata": {},
   "outputs": [
    {
     "name": "stdout",
     "output_type": "stream",
     "text": [
      "C:\\Users\\User\\mds-labs\\DSCI-525\\525_group18_2023\n"
     ]
    }
   ],
   "source": [
    "# Project path\n",
    "## Please change it to the location of your choice\n",
    "%cd \"/Users/User/mds-labs/DSCI-525/525_group18_2023\""
   ]
  },
  {
   "cell_type": "markdown",
   "id": "2b5f102e-3293-440a-a9a0-8301059618c0",
   "metadata": {},
   "source": [
    "## Downloading the data"
   ]
  },
  {
   "cell_type": "markdown",
   "id": "abe46065-da0c-4910-8914-a54e31bb9947",
   "metadata": {},
   "source": [
    "We are using the figshare API to download the data for the analysis."
   ]
  },
  {
   "cell_type": "code",
   "execution_count": 4,
   "id": "71562498-7988-4b2e-b9b8-06a76cece9b1",
   "metadata": {},
   "outputs": [],
   "source": [
    "# Metadata\n",
    "## Article ID of figshare\n",
    "article_id = 14096681  \n",
    "# Beuzen, Tomas (2021): Daily rainfall over NSW, Australia. figshare. Dataset. https://doi.org/10.6084/m9.figshare.14096681.v3\n",
    "\n",
    "## URL\n",
    "url = f\"https://api.figshare.com/v2/articles/{article_id}\"\n",
    "\n",
    "## Header\n",
    "headers = {\"Content-Type\": \"application/json\"}"
   ]
  },
  {
   "cell_type": "code",
   "execution_count": 5,
   "id": "f6789237-89b5-4761-a1c0-4f8ca8854d06",
   "metadata": {},
   "outputs": [],
   "source": [
    "# Change the output directory for the data files\n",
    "output_directory = \"rainforest/\" "
   ]
  },
  {
   "cell_type": "code",
   "execution_count": 6,
   "id": "995ea72e-6b41-4545-a13b-823d847b6c4d",
   "metadata": {},
   "outputs": [
    {
     "data": {
      "text/plain": [
       "[{'id': 26579150,\n",
       "  'name': 'daily_rainfall_2014.png',\n",
       "  'size': 58863,\n",
       "  'is_link_only': False,\n",
       "  'download_url': 'https://ndownloader.figshare.com/files/26579150',\n",
       "  'supplied_md5': 'fd32a2ffde300a31f8d63b1825d47e5e',\n",
       "  'computed_md5': 'fd32a2ffde300a31f8d63b1825d47e5e'},\n",
       " {'id': 26579171,\n",
       "  'name': 'environment.yml',\n",
       "  'size': 192,\n",
       "  'is_link_only': False,\n",
       "  'download_url': 'https://ndownloader.figshare.com/files/26579171',\n",
       "  'supplied_md5': '060b2020017eed93a1ee7dd8c65b2f34',\n",
       "  'computed_md5': '060b2020017eed93a1ee7dd8c65b2f34'},\n",
       " {'id': 26586554,\n",
       "  'name': 'README.md',\n",
       "  'size': 5422,\n",
       "  'is_link_only': False,\n",
       "  'download_url': 'https://ndownloader.figshare.com/files/26586554',\n",
       "  'supplied_md5': '61858c6cc0e6a6d6663a7e4c75bbd88c',\n",
       "  'computed_md5': '61858c6cc0e6a6d6663a7e4c75bbd88c'},\n",
       " {'id': 26766812,\n",
       "  'name': 'data.zip',\n",
       "  'size': 814041183,\n",
       "  'is_link_only': False,\n",
       "  'download_url': 'https://ndownloader.figshare.com/files/26766812',\n",
       "  'supplied_md5': 'b517383f76e77bd03755a63a8ff83ee9',\n",
       "  'computed_md5': 'b517383f76e77bd03755a63a8ff83ee9'},\n",
       " {'id': 26766815,\n",
       "  'name': 'get_data.py',\n",
       "  'size': 4113,\n",
       "  'is_link_only': False,\n",
       "  'download_url': 'https://ndownloader.figshare.com/files/26766815',\n",
       "  'supplied_md5': '7829028495fd9dec9680ea013474afa6',\n",
       "  'computed_md5': '7829028495fd9dec9680ea013474afa6'}]"
      ]
     },
     "execution_count": 6,
     "metadata": {},
     "output_type": "execute_result"
    }
   ],
   "source": [
    "# Send a GET request to list the available files\n",
    "response = requests.request(\"GET\", url, headers=headers)\n",
    "data = json.loads(response.text)  # this contains all the articles data\n",
    "files = data[\"files\"]             # this is just the data about the files\n",
    "files"
   ]
  },
  {
   "cell_type": "markdown",
   "id": "61ff743e-b19d-4fc4-b0d2-7ee801d6e955",
   "metadata": {},
   "source": [
    "We are extracting the zip file."
   ]
  },
  {
   "cell_type": "code",
   "execution_count": 7,
   "id": "98b62aa3-0dce-4e61-b548-09a688ddb9fb",
   "metadata": {},
   "outputs": [
    {
     "name": "stdout",
     "output_type": "stream",
     "text": [
      "CPU times: total: 35.9 s\n",
      "Wall time: 5min 26s\n"
     ]
    }
   ],
   "source": [
    "%%time\n",
    "# Download data.zip\n",
    "files_to_dl = [\"data.zip\"]  # data.zip\n",
    "for file in files:\n",
    "    if file[\"name\"] in files_to_dl:\n",
    "        os.makedirs(output_directory, exist_ok=True)\n",
    "        urlretrieve(file[\"download_url\"], output_directory + file[\"name\"])"
   ]
  },
  {
   "cell_type": "code",
   "execution_count": 8,
   "id": "26675f1f-1fee-4ab7-9b9d-11ace1049255",
   "metadata": {},
   "outputs": [
    {
     "name": "stdout",
     "output_type": "stream",
     "text": [
      "CPU times: total: 36.3 s\n",
      "Wall time: 38.8 s\n"
     ]
    }
   ],
   "source": [
    "%%time\n",
    "# Extract data.zip\n",
    "with zipfile.ZipFile(os.path.join(output_directory, \"data.zip\"), 'r') as f:\n",
    "    f.extractall(output_directory)"
   ]
  },
  {
   "cell_type": "code",
   "execution_count": 9,
   "id": "7b39ecbc-f140-469e-a132-8456367002da",
   "metadata": {},
   "outputs": [
    {
     "name": "stdout",
     "output_type": "stream",
     "text": [
      " Volume in drive C has no label.\n",
      " Volume Serial Number is 94F6-1575\n",
      "\n",
      " Directory of C:\\Users\\User\\mds-labs\\DSCI-554\\DSCI_554_lab1_mormf728\n",
      "\n",
      "\n",
      " Directory of C:\\Users\\User\\mds-labs\\DSCI-554\\DSCI_554_lab1_mormf728\\rainforest\n",
      "\n",
      "03/29/2023  08:19 PM    <DIR>          .\n",
      "03/29/2023  08:19 PM    <DIR>          ..\n",
      "03/29/2023  08:19 PM    <DIR>          __MACOSX\n",
      "03/29/2023  08:18 PM       127,613,760 ACCESS-CM2_daily_rainfall_NSW.csv\n",
      "03/29/2023  08:19 PM       114,707,410 ACCESS-ESM1-5_daily_rainfall_NSW.csv\n",
      "03/29/2023  08:18 PM        94,960,113 AWI-ESM-1-1-LR_daily_rainfall_NSW.csv\n",
      "03/29/2023  08:19 PM       294,260,911 BCC-CSM2-MR_daily_rainfall_NSW.csv\n",
      "03/29/2023  08:19 PM        55,224,437 BCC-ESM1_daily_rainfall_NSW.csv\n",
      "03/29/2023  08:19 PM        46,286,371 CanESM5_daily_rainfall_NSW.csv\n",
      "03/29/2023  08:19 PM       330,360,682 CMCC-CM2-HR4_daily_rainfall_NSW.csv\n",
      "03/29/2023  08:19 PM       328,787,320 CMCC-CM2-SR5_daily_rainfall_NSW.csv\n",
      "03/29/2023  08:19 PM       328,852,379 CMCC-ESM2_daily_rainfall_NSW.csv\n",
      "03/29/2023  08:18 PM       814,041,183 data.zip\n",
      "03/29/2023  08:19 PM       295,768,615 EC-Earth3-Veg-LR_daily_rainfall_NSW.csv\n",
      "03/29/2023  08:18 PM       232,118,894 FGOALS-f3-L_daily_rainfall_NSW.csv\n",
      "03/29/2023  08:19 PM       116,179,272 FGOALS-g3_daily_rainfall_NSW.csv\n",
      "03/29/2023  08:19 PM       235,661,418 GFDL-CM4_daily_rainfall_NSW.csv\n",
      "03/29/2023  08:19 PM       124,586,961 GFDL-ESM4_daily_rainfall_NSW.csv\n",
      "03/29/2023  08:19 PM       102,517,965 INM-CM4-8_daily_rainfall_NSW.csv\n",
      "03/29/2023  08:19 PM       102,692,289 INM-CM5-0_daily_rainfall_NSW.csv\n",
      "03/29/2023  08:19 PM        93,829,697 KIOST-ESM_daily_rainfall_NSW.csv\n",
      "03/29/2023  08:19 PM       206,822,938 MIROC6_daily_rainfall_NSW.csv\n",
      "03/29/2023  08:18 PM        95,376,895 MPI-ESM-1-2-HAM_daily_rainfall_NSW.csv\n",
      "03/29/2023  08:19 PM       515,458,033 MPI-ESM1-2-HR_daily_rainfall_NSW.csv\n",
      "03/29/2023  08:19 PM        95,640,682 MPI-ESM1-2-LR_daily_rainfall_NSW.csv\n",
      "03/29/2023  08:19 PM       254,009,247 MRI-ESM2-0_daily_rainfall_NSW.csv\n",
      "03/29/2023  08:19 PM        67,784,105 NESM3_daily_rainfall_NSW.csv\n",
      "03/29/2023  08:18 PM        82,474,546 NorESM2-LM_daily_rainfall_NSW.csv\n",
      "03/29/2023  08:19 PM       337,555,851 NorESM2-MM_daily_rainfall_NSW.csv\n",
      "03/29/2023  08:19 PM           952,202 observed_daily_rainfall_SYD.csv\n",
      "03/29/2023  08:19 PM       333,489,879 SAM0-UNICON_daily_rainfall_NSW.csv\n",
      "03/29/2023  08:19 PM       332,813,281 TaiESM1_daily_rainfall_NSW.csv\n",
      "              29 File(s)  6,160,827,336 bytes\n",
      "               3 Dir(s)  51,298,988,032 bytes free\n"
     ]
    },
    {
     "name": "stderr",
     "output_type": "stream",
     "text": [
      "File Not Found\n"
     ]
    }
   ],
   "source": [
    "# List the folder\n",
    "%ls -ltr rainforest"
   ]
  },
  {
   "cell_type": "code",
   "execution_count": 10,
   "id": "798733e3-dca3-488c-87ba-df39f2d4b9bb",
   "metadata": {},
   "outputs": [
    {
     "data": {
      "text/plain": [
       "['rainforest\\\\ACCESS-CM2_daily_rainfall_NSW.csv',\n",
       " 'rainforest\\\\ACCESS-ESM1-5_daily_rainfall_NSW.csv',\n",
       " 'rainforest\\\\AWI-ESM-1-1-LR_daily_rainfall_NSW.csv',\n",
       " 'rainforest\\\\BCC-CSM2-MR_daily_rainfall_NSW.csv',\n",
       " 'rainforest\\\\BCC-ESM1_daily_rainfall_NSW.csv',\n",
       " 'rainforest\\\\CanESM5_daily_rainfall_NSW.csv',\n",
       " 'rainforest\\\\CMCC-CM2-HR4_daily_rainfall_NSW.csv',\n",
       " 'rainforest\\\\CMCC-CM2-SR5_daily_rainfall_NSW.csv',\n",
       " 'rainforest\\\\CMCC-ESM2_daily_rainfall_NSW.csv',\n",
       " 'rainforest\\\\EC-Earth3-Veg-LR_daily_rainfall_NSW.csv',\n",
       " 'rainforest\\\\FGOALS-f3-L_daily_rainfall_NSW.csv',\n",
       " 'rainforest\\\\FGOALS-g3_daily_rainfall_NSW.csv',\n",
       " 'rainforest\\\\GFDL-CM4_daily_rainfall_NSW.csv',\n",
       " 'rainforest\\\\GFDL-ESM4_daily_rainfall_NSW.csv',\n",
       " 'rainforest\\\\INM-CM4-8_daily_rainfall_NSW.csv',\n",
       " 'rainforest\\\\INM-CM5-0_daily_rainfall_NSW.csv',\n",
       " 'rainforest\\\\KIOST-ESM_daily_rainfall_NSW.csv',\n",
       " 'rainforest\\\\MIROC6_daily_rainfall_NSW.csv',\n",
       " 'rainforest\\\\MPI-ESM-1-2-HAM_daily_rainfall_NSW.csv',\n",
       " 'rainforest\\\\MPI-ESM1-2-HR_daily_rainfall_NSW.csv',\n",
       " 'rainforest\\\\MPI-ESM1-2-LR_daily_rainfall_NSW.csv',\n",
       " 'rainforest\\\\MRI-ESM2-0_daily_rainfall_NSW.csv',\n",
       " 'rainforest\\\\NESM3_daily_rainfall_NSW.csv',\n",
       " 'rainforest\\\\NorESM2-LM_daily_rainfall_NSW.csv',\n",
       " 'rainforest\\\\NorESM2-MM_daily_rainfall_NSW.csv',\n",
       " 'rainforest\\\\observed_daily_rainfall_SYD.csv',\n",
       " 'rainforest\\\\SAM0-UNICON_daily_rainfall_NSW.csv',\n",
       " 'rainforest\\\\TaiESM1_daily_rainfall_NSW.csv']"
      ]
     },
     "execution_count": 10,
     "metadata": {},
     "output_type": "execute_result"
    }
   ],
   "source": [
    "# Show a list of paths\n",
    "files = glob.glob('rainforest/*.csv')\n",
    "files"
   ]
  },
  {
   "cell_type": "markdown",
   "id": "017e0eba-1c82-46f9-b56e-b45f0796fead",
   "metadata": {},
   "source": [
    "## Data Combination"
   ]
  },
  {
   "cell_type": "markdown",
   "id": "291756c3-81cb-4bc8-bc46-4be3c51b954e",
   "metadata": {},
   "source": [
    "We are extracting the common column names for all the `.csv` files."
   ]
  },
  {
   "cell_type": "code",
   "execution_count": 18,
   "id": "8a06be4f-851e-4da8-9ebb-8f6c52d81db5",
   "metadata": {},
   "outputs": [
    {
     "data": {
      "text/plain": [
       "['time', 'lat_min', 'lat_max', 'lon_min', 'lon_max', 'rain (mm/day)']"
      ]
     },
     "execution_count": 18,
     "metadata": {},
     "output_type": "execute_result"
    }
   ],
   "source": [
    "# Show the columns available in a data file\n",
    "sample1 = pd.read_csv('rainforest/SAM0-UNICON_daily_rainfall_NSW.csv')\n",
    "cols = sample1.columns.to_list()\n",
    "cols"
   ]
  },
  {
   "cell_type": "markdown",
   "id": "1b1d7ef7-71e2-48b9-abb0-18b20bb5f0b1",
   "metadata": {},
   "source": [
    "We are combining the `.csv` files into 1 single data frame."
   ]
  },
  {
   "cell_type": "raw",
   "id": "b3f24213-56ce-4e02-87ac-da2988bcab8e",
   "metadata": {},
   "source": [
    "%%time\n",
    "## Combine data CSVs into a single CSV using pandas\n",
    "files = glob.glob('rainforest/*.csv')\n",
    "excluded_files = ['rainforest/observed_daily_rainfall_SYD.csv', 'rainforest/combined.csv']\n",
    "\n",
    "df = pd.concat((pd.read_csv(file,\n",
    "                            index_col=False, \n",
    "                            usecols=cols,\n",
    "                            # low_memory = False\n",
    "                           )\n",
    "                .assign(model=re.findall('/([^_]*)', file)[0]) # find the model name before the first underscore and assign it to \"model\"\n",
    "                for file in files if file not in excluded_files # do not include observed_daily_rainfall_SYD.csv and combined.csv\n",
    "               )\n",
    "              )\n",
    "df.to_csv(\"rainforest/combined.csv\")"
   ]
  },
  {
   "cell_type": "code",
   "execution_count": 34,
   "id": "6a9f3a0f-99a4-404f-90cf-317da5a33075",
   "metadata": {},
   "outputs": [
    {
     "data": {
      "text/plain": [
       "(62467843, 7)"
      ]
     },
     "execution_count": 34,
     "metadata": {},
     "output_type": "execute_result"
    }
   ],
   "source": [
    "df.shape"
   ]
  },
  {
   "cell_type": "code",
   "execution_count": 35,
   "id": "e357d171",
   "metadata": {},
   "outputs": [
    {
     "data": {
      "text/html": [
       "<div>\n",
       "<style scoped>\n",
       "    .dataframe tbody tr th:only-of-type {\n",
       "        vertical-align: middle;\n",
       "    }\n",
       "\n",
       "    .dataframe tbody tr th {\n",
       "        vertical-align: top;\n",
       "    }\n",
       "\n",
       "    .dataframe thead th {\n",
       "        text-align: right;\n",
       "    }\n",
       "</style>\n",
       "<table border=\"1\" class=\"dataframe\">\n",
       "  <thead>\n",
       "    <tr style=\"text-align: right;\">\n",
       "      <th></th>\n",
       "      <th>time</th>\n",
       "      <th>lat_min</th>\n",
       "      <th>lat_max</th>\n",
       "      <th>lon_min</th>\n",
       "      <th>lon_max</th>\n",
       "      <th>rain (mm/day)</th>\n",
       "      <th>model</th>\n",
       "    </tr>\n",
       "  </thead>\n",
       "  <tbody>\n",
       "    <tr>\n",
       "      <th>0</th>\n",
       "      <td>1889-01-01 12:00:00</td>\n",
       "      <td>-35.439867</td>\n",
       "      <td>-33.574619</td>\n",
       "      <td>141.5625</td>\n",
       "      <td>143.4375</td>\n",
       "      <td>4.244226e-13</td>\n",
       "      <td>MPI-ESM-1-2-HAM</td>\n",
       "    </tr>\n",
       "    <tr>\n",
       "      <th>1</th>\n",
       "      <td>1889-01-02 12:00:00</td>\n",
       "      <td>-35.439867</td>\n",
       "      <td>-33.574619</td>\n",
       "      <td>141.5625</td>\n",
       "      <td>143.4375</td>\n",
       "      <td>4.217326e-13</td>\n",
       "      <td>MPI-ESM-1-2-HAM</td>\n",
       "    </tr>\n",
       "    <tr>\n",
       "      <th>2</th>\n",
       "      <td>1889-01-03 12:00:00</td>\n",
       "      <td>-35.439867</td>\n",
       "      <td>-33.574619</td>\n",
       "      <td>141.5625</td>\n",
       "      <td>143.4375</td>\n",
       "      <td>4.498125e-13</td>\n",
       "      <td>MPI-ESM-1-2-HAM</td>\n",
       "    </tr>\n",
       "    <tr>\n",
       "      <th>3</th>\n",
       "      <td>1889-01-04 12:00:00</td>\n",
       "      <td>-35.439867</td>\n",
       "      <td>-33.574619</td>\n",
       "      <td>141.5625</td>\n",
       "      <td>143.4375</td>\n",
       "      <td>4.251282e-13</td>\n",
       "      <td>MPI-ESM-1-2-HAM</td>\n",
       "    </tr>\n",
       "    <tr>\n",
       "      <th>4</th>\n",
       "      <td>1889-01-05 12:00:00</td>\n",
       "      <td>-35.439867</td>\n",
       "      <td>-33.574619</td>\n",
       "      <td>141.5625</td>\n",
       "      <td>143.4375</td>\n",
       "      <td>4.270161e-13</td>\n",
       "      <td>MPI-ESM-1-2-HAM</td>\n",
       "    </tr>\n",
       "  </tbody>\n",
       "</table>\n",
       "</div>"
      ],
      "text/plain": [
       "                  time    lat_min    lat_max   lon_min   lon_max  \\\n",
       "0  1889-01-01 12:00:00 -35.439867 -33.574619  141.5625  143.4375   \n",
       "1  1889-01-02 12:00:00 -35.439867 -33.574619  141.5625  143.4375   \n",
       "2  1889-01-03 12:00:00 -35.439867 -33.574619  141.5625  143.4375   \n",
       "3  1889-01-04 12:00:00 -35.439867 -33.574619  141.5625  143.4375   \n",
       "4  1889-01-05 12:00:00 -35.439867 -33.574619  141.5625  143.4375   \n",
       "\n",
       "   rain (mm/day)            model  \n",
       "0   4.244226e-13  MPI-ESM-1-2-HAM  \n",
       "1   4.217326e-13  MPI-ESM-1-2-HAM  \n",
       "2   4.498125e-13  MPI-ESM-1-2-HAM  \n",
       "3   4.251282e-13  MPI-ESM-1-2-HAM  \n",
       "4   4.270161e-13  MPI-ESM-1-2-HAM  "
      ]
     },
     "execution_count": 35,
     "metadata": {},
     "output_type": "execute_result"
    }
   ],
   "source": [
    "df.head()"
   ]
  },
  {
   "cell_type": "code",
   "execution_count": 36,
   "id": "06da3800",
   "metadata": {},
   "outputs": [],
   "source": [
    "# Convert to float32\n",
    "df32 = df.astype('float32', errors='ignore')"
   ]
  },
  {
   "cell_type": "markdown",
   "id": "1d264332-db17-4438-b60a-0077ac666665",
   "metadata": {},
   "source": [
    "| Team Member | Operating System | RAM | Processor | Is SSD | Time taken |\n",
    "|:-----------:|:----------------:|:---:|:---------:|:------:|:----------:|\n",
    "| Yaou        | Windows          | 16GB| Intel(R) Core(TM) i7-1165G7 CPU @ 2.80GHz |Yes            |6min 47s          |\n",
    "| Morris      | Windows          | 8GB | Intel(R) Core(TM) i7-8550U CPU @ 1.80GHz   1.99 GHz | Yes    |Memory Error            |\n",
    "| Markus      | Mac              | 24GB | M2       | Yes    |3min 41s            |\n",
    "| Jenit       |  Ubunutu | 16GB |  AMD Ryzen 7 6800H with Radeon Graphics | Yes | |"
   ]
  },
  {
   "cell_type": "markdown",
   "id": "759a3a03-ca52-4273-99d3-ac21218107b0",
   "metadata": {},
   "source": [
    "The run time for combining the data frames is shorter for machines with better chips and larger RAM. One of our members' laptop cannot load the data frame because the RAM on his computer is too small."
   ]
  },
  {
   "cell_type": "markdown",
   "id": "f73d05c5-4883-461f-80c7-f91389ace192",
   "metadata": {},
   "source": [
    "# Do we need this cell...?"
   ]
  },
  {
   "cell_type": "code",
   "execution_count": 37,
   "id": "07445215-3c51-4bf8-94b0-52aef8386769",
   "metadata": {},
   "outputs": [
    {
     "name": "stdout",
     "output_type": "stream",
     "text": [
      "Memory usage with float64: 3997.94 MB\n",
      "Memory usage with float32: 2748.59 MB\n"
     ]
    }
   ],
   "source": [
    "# Check memory usage\n",
    "print(f\"Memory usage with float64: {df.memory_usage().sum() / 1e6:.2f} MB\")\n",
    "print(f\"Memory usage with float32: {df32.memory_usage().sum() / 1e6:.2f} MB\")"
   ]
  },
  {
   "cell_type": "markdown",
   "id": "5d387c39-4cb8-4790-abd3-8d069c3bd8a3",
   "metadata": {},
   "source": [
    "## Simple EDA"
   ]
  },
  {
   "cell_type": "markdown",
   "id": "a15a3fb2-6d14-4f16-813b-edc067b3e561",
   "metadata": {},
   "source": [
    "We are using 2 different techniques to to reduce memory used for an EDA."
   ]
  },
  {
   "cell_type": "markdown",
   "id": "3fe5b395-c013-4a5e-8b46-58506218986a",
   "metadata": {},
   "source": [
    "The first approach we are using is by loading only the columns we want to use in our analysis."
   ]
  },
  {
   "cell_type": "code",
   "execution_count": 24,
   "id": "ef3cef55-daf9-43bc-8d43-4c22e016a21d",
   "metadata": {},
   "outputs": [
    {
     "name": "stdout",
     "output_type": "stream",
     "text": [
      "CPU times: total: 1min 23s\n",
      "Wall time: 1min 25s\n"
     ]
    }
   ],
   "source": [
    "%%time\n",
    "# EDA (load data - select columns)\n",
    "use_cols = ['rain (mm/day)', 'model']\n",
    "\n",
    "df = pd.read_csv(\"rainforest\\\\combined.csv\",\n",
    "                   usecols=use_cols)"
   ]
  },
  {
   "cell_type": "markdown",
   "id": "0e8e9bc7-fc85-4076-a57d-3640af038589",
   "metadata": {},
   "source": [
    "| Team Member | Operating System | RAM | Processor | Is SSD | Time taken |\n",
    "|:-----------:|:----------------:|:---:|:---------:|:------:|:----------:|\n",
    "| Yaou        | Windows          | 16GB| Intel(R) Core(TM) i7-1165G7 CPU @ 2.80GHz |Yes            |45.4s          |\n",
    "| Morris      | Windows          | 8GB | Intel(R) Core(TM) i7-8550U CPU @ 1.80GHz   1.99 GHz | Yes    |1min 25s            |\n",
    "| Markus      | Mac              | 24GB | M2       | Yes    |18s            |\n",
    "| Jenit       |  Ubunutu | 16GB |  AMD Ryzen 7 6800H with Radeon Graphics | Yes | |"
   ]
  },
  {
   "cell_type": "code",
   "execution_count": 25,
   "id": "2606593f-c87f-4146-8577-a0e05a04d6dd",
   "metadata": {},
   "outputs": [
    {
     "name": "stdout",
     "output_type": "stream",
     "text": [
      "CPU times: total: 9.8 s\n",
      "Wall time: 10 s\n"
     ]
    },
    {
     "data": {
      "text/html": [
       "<div>\n",
       "<style scoped>\n",
       "    .dataframe tbody tr th:only-of-type {\n",
       "        vertical-align: middle;\n",
       "    }\n",
       "\n",
       "    .dataframe tbody tr th {\n",
       "        vertical-align: top;\n",
       "    }\n",
       "\n",
       "    .dataframe thead th {\n",
       "        text-align: right;\n",
       "    }\n",
       "</style>\n",
       "<table border=\"1\" class=\"dataframe\">\n",
       "  <thead>\n",
       "    <tr style=\"text-align: right;\">\n",
       "      <th></th>\n",
       "      <th>mean</th>\n",
       "      <th>max</th>\n",
       "      <th>min</th>\n",
       "      <th>median</th>\n",
       "    </tr>\n",
       "    <tr>\n",
       "      <th>model</th>\n",
       "      <th></th>\n",
       "      <th></th>\n",
       "      <th></th>\n",
       "      <th></th>\n",
       "    </tr>\n",
       "  </thead>\n",
       "  <tbody>\n",
       "    <tr>\n",
       "      <th>ACCESS-CM2</th>\n",
       "      <td>1.787025</td>\n",
       "      <td>432.939515</td>\n",
       "      <td>0.000000e+00</td>\n",
       "      <td>0.100272</td>\n",
       "    </tr>\n",
       "    <tr>\n",
       "      <th>ACCESS-ESM1-5</th>\n",
       "      <td>2.217501</td>\n",
       "      <td>202.028315</td>\n",
       "      <td>-3.049319e-18</td>\n",
       "      <td>0.134568</td>\n",
       "    </tr>\n",
       "    <tr>\n",
       "      <th>AWI-ESM-1-1-LR</th>\n",
       "      <td>2.026071</td>\n",
       "      <td>89.465749</td>\n",
       "      <td>9.065210e-14</td>\n",
       "      <td>0.044264</td>\n",
       "    </tr>\n",
       "    <tr>\n",
       "      <th>BCC-CSM2-MR</th>\n",
       "      <td>1.951832</td>\n",
       "      <td>286.226671</td>\n",
       "      <td>3.766800e-24</td>\n",
       "      <td>0.043217</td>\n",
       "    </tr>\n",
       "    <tr>\n",
       "      <th>BCC-ESM1</th>\n",
       "      <td>1.811032</td>\n",
       "      <td>164.058595</td>\n",
       "      <td>9.260348e-25</td>\n",
       "      <td>0.010913</td>\n",
       "    </tr>\n",
       "    <tr>\n",
       "      <th>CMCC-CM2-HR4</th>\n",
       "      <td>2.279350</td>\n",
       "      <td>224.154387</td>\n",
       "      <td>0.000000e+00</td>\n",
       "      <td>0.268726</td>\n",
       "    </tr>\n",
       "    <tr>\n",
       "      <th>CMCC-CM2-SR5</th>\n",
       "      <td>2.383389</td>\n",
       "      <td>202.845832</td>\n",
       "      <td>-4.077885e-13</td>\n",
       "      <td>0.217150</td>\n",
       "    </tr>\n",
       "    <tr>\n",
       "      <th>CMCC-ESM2</th>\n",
       "      <td>2.266125</td>\n",
       "      <td>230.226552</td>\n",
       "      <td>-7.874900e-14</td>\n",
       "      <td>0.202842</td>\n",
       "    </tr>\n",
       "    <tr>\n",
       "      <th>CanESM5</th>\n",
       "      <td>1.894328</td>\n",
       "      <td>173.812797</td>\n",
       "      <td>0.000000e+00</td>\n",
       "      <td>0.086392</td>\n",
       "    </tr>\n",
       "    <tr>\n",
       "      <th>combined.csv</th>\n",
       "      <td>2.023938</td>\n",
       "      <td>432.939515</td>\n",
       "      <td>-4.077885e-13</td>\n",
       "      <td>0.108273</td>\n",
       "    </tr>\n",
       "  </tbody>\n",
       "</table>\n",
       "</div>"
      ],
      "text/plain": [
       "                    mean         max           min    median\n",
       "model                                                       \n",
       "ACCESS-CM2      1.787025  432.939515  0.000000e+00  0.100272\n",
       "ACCESS-ESM1-5   2.217501  202.028315 -3.049319e-18  0.134568\n",
       "AWI-ESM-1-1-LR  2.026071   89.465749  9.065210e-14  0.044264\n",
       "BCC-CSM2-MR     1.951832  286.226671  3.766800e-24  0.043217\n",
       "BCC-ESM1        1.811032  164.058595  9.260348e-25  0.010913\n",
       "CMCC-CM2-HR4    2.279350  224.154387  0.000000e+00  0.268726\n",
       "CMCC-CM2-SR5    2.383389  202.845832 -4.077885e-13  0.217150\n",
       "CMCC-ESM2       2.266125  230.226552 -7.874900e-14  0.202842\n",
       "CanESM5         1.894328  173.812797  0.000000e+00  0.086392\n",
       "combined.csv    2.023938  432.939515 -4.077885e-13  0.108273"
      ]
     },
     "execution_count": 25,
     "metadata": {},
     "output_type": "execute_result"
    }
   ],
   "source": [
    "%%time\n",
    "# EDA (get mean, max, min, median by model)\n",
    "df.groupby('model')['rain (mm/day)'].agg(['mean', 'max', 'min', 'median'])"
   ]
  },
  {
   "cell_type": "markdown",
   "id": "8dc002af-e373-41c1-8587-8804c1412b1d",
   "metadata": {},
   "source": [
    "| Team Member | Operating System | RAM | Processor | Is SSD | Time taken |\n",
    "|:-----------:|:----------------:|:---:|:---------:|:------:|:----------:|\n",
    "| Yaou        | Windows          | 16GB| Intel(R) Core(TM) i7-1165G7 CPU @ 2.80GHz |Yes            |6.83s          |\n",
    "| Morris      | Windows          | 8GB | Intel(R) Core(TM) i7-8550U CPU @ 1.80GHz   1.99 GHz | Yes    |10s            |\n",
    "| Markus      | Mac              | 24GB | M2       | Yes    |2.93s            |\n",
    "| Jenit       |  Ubunutu | 16GB |  AMD Ryzen 7 6800H with Radeon Graphics | Yes | |"
   ]
  },
  {
   "cell_type": "markdown",
   "id": "567d100c-8428-4e3c-a8eb-d04032c9012f",
   "metadata": {},
   "source": [
    "The time needed to load the data and to run the EDA is drastically shorter. Even the machine that cannot combine the `.csv` files can read the data with this method. With the time shortened, machines with better RAM and chips also took shorter time."
   ]
  },
  {
   "cell_type": "markdown",
   "id": "76256186-d250-4343-ae86-7e96e324dc4c",
   "metadata": {},
   "source": [
    "The second approach we are using is chaning the data type of the data to `float32` when loading it with `pandas`."
   ]
  },
  {
   "cell_type": "code",
   "execution_count": 26,
   "id": "7537a483-e8f9-46a0-a150-8e5e621ab2cd",
   "metadata": {},
   "outputs": [
    {
     "name": "stdout",
     "output_type": "stream",
     "text": [
      "CPU times: total: 4min 21s\n",
      "Wall time: 5min 31s\n"
     ]
    }
   ],
   "source": [
    "%%time\n",
    "# EDA (load data - change dtype)\n",
    "# use_cols = ['rain (mm/day)', 'model']\n",
    "\n",
    "df32 = pd.read_csv(\"rainforest/combined.csv\",\n",
    "                   dtype={'lat_min':'float32',\n",
    "                          'lat_max':'float32',\n",
    "                          'lon_min':'float32',\n",
    "                          'lon_max':'float32',\n",
    "                          'rain (mm/day)':'float32'})"
   ]
  },
  {
   "cell_type": "markdown",
   "id": "30d4e5fa-48fa-4f54-a3bd-fda7f6a01ce3",
   "metadata": {},
   "source": [
    "| Team Member | Operating System | RAM | Processor | Is SSD | Time taken |\n",
    "|:-----------:|:----------------:|:---:|:---------:|:------:|:----------:|\n",
    "| Yaou        | Windows          | 16GB| Intel(R) Core(TM) i7-1165G7 CPU @ 2.80GHz |Yes            |1min 17s          |\n",
    "| Morris      | Windows          | 8GB | Intel(R) Core(TM) i7-8550U CPU @ 1.80GHz   1.99 GHz | Yes    |5min 31s            |\n",
    "| Markus      | Mac              | 24GB | M2       | Yes    |37.7s            |\n",
    "| Jenit       |  Ubunutu | 16GB |  AMD Ryzen 7 6800H with Radeon Graphics | Yes | |"
   ]
  },
  {
   "cell_type": "code",
   "execution_count": 27,
   "id": "8c5c5233-c2ae-4692-82e1-9b59bd022aac",
   "metadata": {},
   "outputs": [
    {
     "name": "stdout",
     "output_type": "stream",
     "text": [
      "CPU times: total: 33.9 s\n",
      "Wall time: 43.4 s\n"
     ]
    },
    {
     "data": {
      "text/html": [
       "<div>\n",
       "<style scoped>\n",
       "    .dataframe tbody tr th:only-of-type {\n",
       "        vertical-align: middle;\n",
       "    }\n",
       "\n",
       "    .dataframe tbody tr th {\n",
       "        vertical-align: top;\n",
       "    }\n",
       "\n",
       "    .dataframe thead th {\n",
       "        text-align: right;\n",
       "    }\n",
       "</style>\n",
       "<table border=\"1\" class=\"dataframe\">\n",
       "  <thead>\n",
       "    <tr style=\"text-align: right;\">\n",
       "      <th></th>\n",
       "      <th>Unnamed: 0.1</th>\n",
       "      <th>lat_min</th>\n",
       "      <th>lat_max</th>\n",
       "      <th>lon_min</th>\n",
       "      <th>lon_max</th>\n",
       "      <th>rain (mm/day)</th>\n",
       "      <th>Unnamed: 0</th>\n",
       "    </tr>\n",
       "  </thead>\n",
       "  <tbody>\n",
       "    <tr>\n",
       "      <th>count</th>\n",
       "      <td>5.542500e+07</td>\n",
       "      <td>5.220570e+07</td>\n",
       "      <td>5.542500e+07</td>\n",
       "      <td>5.220570e+07</td>\n",
       "      <td>5.542500e+07</td>\n",
       "      <td>5.220570e+07</td>\n",
       "      <td>3.615225e+07</td>\n",
       "    </tr>\n",
       "    <tr>\n",
       "      <th>mean</th>\n",
       "      <td>1.228410e+07</td>\n",
       "      <td>-3.309013e+01</td>\n",
       "      <td>-3.197243e+01</td>\n",
       "      <td>1.468473e+02</td>\n",
       "      <td>1.481978e+02</td>\n",
       "      <td>2.071501e+00</td>\n",
       "      <td>1.395900e+06</td>\n",
       "    </tr>\n",
       "    <tr>\n",
       "      <th>std</th>\n",
       "      <td>1.158951e+07</td>\n",
       "      <td>1.945759e+00</td>\n",
       "      <td>1.978015e+00</td>\n",
       "      <td>3.787649e+00</td>\n",
       "      <td>3.804508e+00</td>\n",
       "      <td>5.772054e+00</td>\n",
       "      <td>9.556355e+05</td>\n",
       "    </tr>\n",
       "    <tr>\n",
       "      <th>min</th>\n",
       "      <td>0.000000e+00</td>\n",
       "      <td>-3.645570e+01</td>\n",
       "      <td>-3.600000e+01</td>\n",
       "      <td>1.406250e+02</td>\n",
       "      <td>1.412500e+02</td>\n",
       "      <td>-4.077885e-13</td>\n",
       "      <td>0.000000e+00</td>\n",
       "    </tr>\n",
       "    <tr>\n",
       "      <th>25%</th>\n",
       "      <td>1.695895e+06</td>\n",
       "      <td>-3.486911e+01</td>\n",
       "      <td>-3.364468e+01</td>\n",
       "      <td>1.434375e+02</td>\n",
       "      <td>1.450000e+02</td>\n",
       "      <td>2.846747e-04</td>\n",
       "      <td>5.667350e+05</td>\n",
       "    </tr>\n",
       "    <tr>\n",
       "      <th>50%</th>\n",
       "      <td>8.439750e+06</td>\n",
       "      <td>-3.298429e+01</td>\n",
       "      <td>-3.204189e+01</td>\n",
       "      <td>1.468750e+02</td>\n",
       "      <td>1.481250e+02</td>\n",
       "      <td>1.225681e-01</td>\n",
       "      <td>1.231226e+06</td>\n",
       "    </tr>\n",
       "    <tr>\n",
       "      <th>75%</th>\n",
       "      <td>2.229600e+07</td>\n",
       "      <td>-3.140170e+01</td>\n",
       "      <td>-3.015707e+01</td>\n",
       "      <td>1.501875e+02</td>\n",
       "      <td>1.513125e+02</td>\n",
       "      <td>1.301246e+00</td>\n",
       "      <td>2.164523e+06</td>\n",
       "    </tr>\n",
       "    <tr>\n",
       "      <th>max</th>\n",
       "      <td>3.615225e+07</td>\n",
       "      <td>-2.990000e+01</td>\n",
       "      <td>-2.790606e+01</td>\n",
       "      <td>1.531250e+02</td>\n",
       "      <td>1.550000e+02</td>\n",
       "      <td>4.329395e+02</td>\n",
       "      <td>3.541229e+06</td>\n",
       "    </tr>\n",
       "  </tbody>\n",
       "</table>\n",
       "</div>"
      ],
      "text/plain": [
       "       Unnamed: 0.1       lat_min       lat_max       lon_min       lon_max  \\\n",
       "count  5.542500e+07  5.220570e+07  5.542500e+07  5.220570e+07  5.542500e+07   \n",
       "mean   1.228410e+07 -3.309013e+01 -3.197243e+01  1.468473e+02  1.481978e+02   \n",
       "std    1.158951e+07  1.945759e+00  1.978015e+00  3.787649e+00  3.804508e+00   \n",
       "min    0.000000e+00 -3.645570e+01 -3.600000e+01  1.406250e+02  1.412500e+02   \n",
       "25%    1.695895e+06 -3.486911e+01 -3.364468e+01  1.434375e+02  1.450000e+02   \n",
       "50%    8.439750e+06 -3.298429e+01 -3.204189e+01  1.468750e+02  1.481250e+02   \n",
       "75%    2.229600e+07 -3.140170e+01 -3.015707e+01  1.501875e+02  1.513125e+02   \n",
       "max    3.615225e+07 -2.990000e+01 -2.790606e+01  1.531250e+02  1.550000e+02   \n",
       "\n",
       "       rain (mm/day)    Unnamed: 0  \n",
       "count   5.220570e+07  3.615225e+07  \n",
       "mean    2.071501e+00  1.395900e+06  \n",
       "std     5.772054e+00  9.556355e+05  \n",
       "min    -4.077885e-13  0.000000e+00  \n",
       "25%     2.846747e-04  5.667350e+05  \n",
       "50%     1.225681e-01  1.231226e+06  \n",
       "75%     1.301246e+00  2.164523e+06  \n",
       "max     4.329395e+02  3.541229e+06  "
      ]
     },
     "execution_count": 27,
     "metadata": {},
     "output_type": "execute_result"
    }
   ],
   "source": [
    "%%time\n",
    "# EDA (.describe())\n",
    "df32.describe()"
   ]
  },
  {
   "cell_type": "markdown",
   "id": "d90c15d8-ef2d-4fc4-8b08-bb7a9ae8c9e0",
   "metadata": {},
   "source": [
    "| Team Member | Operating System | RAM | Processor | Is SSD | Time taken |\n",
    "|:-----------:|:----------------:|:---:|:---------:|:------:|:----------:|\n",
    "| Yaou        | Windows          | 16GB| Intel(R) Core(TM) i7-1165G7 CPU @ 2.80GHz |Yes            |10s          |\n",
    "| Morris      | Windows          | 8GB | Intel(R) Core(TM) i7-8550U CPU @ 1.80GHz   1.99 GHz | Yes    |43.4s            |\n",
    "| Markus      | Mac              | 24GB | M2       | Yes    |8.48s            |\n",
    "| Jenit       |  Ubunutu | 16GB |  AMD Ryzen 7 6800H with Radeon Graphics | Yes | |"
   ]
  },
  {
   "cell_type": "markdown",
   "id": "32c091ca-9a73-4b5f-9047-1fa86b7691de",
   "metadata": {},
   "source": [
    "The time needed to load the data and to run the EDA is also shorter. Even the machine that cannot combine the `.csv` files can read the data with this method. With the time shortened, machines with better RAM and chips also took shorter time. Changing the data type is less efficient than only loading the used columns in terms of improving the time and mememory used."
   ]
  },
  {
   "cell_type": "markdown",
   "id": "f812b67a-7656-4b6b-9b0e-67d67b32211d",
   "metadata": {},
   "source": [
    "## Simple EDA in R"
   ]
  },
  {
   "cell_type": "markdown",
   "id": "b75c7f63-a9cb-430d-b28d-acc983dc416b",
   "metadata": {},
   "source": [
    "To transfer the data from `python` to `R`, we are using arrow. We chose this method because it is an approach optimizing memory usage, which is a more focused issue in this exercise."
   ]
  },
  {
   "cell_type": "code",
   "execution_count": 3,
   "id": "db3b4a2a",
   "metadata": {},
   "outputs": [],
   "source": [
    "# import for R. Please change the path by referring to the result of `conda run -n 525_2023 python -m site`\n",
    "import os\n",
    "os.environ['R_HOME'] = 'C:\\\\Users\\\\User\\\\miniconda3\\\\envs\\\\525_2023\\\\lib\\\\R'"
   ]
  },
  {
   "cell_type": "code",
   "execution_count": 4,
   "id": "9323a327-0e1a-475f-9d39-c28fcfa8e48e",
   "metadata": {},
   "outputs": [
    {
     "name": "stderr",
     "output_type": "stream",
     "text": [
      "C:\\Users\\User\\miniconda3\\envs\\525_2023\\lib\\site-packages\\rpy2\\robjects\\packages.py:367: UserWarning: The symbol 'quartz' is not in this R namespace/package.\n",
      "  warnings.warn(\n"
     ]
    }
   ],
   "source": [
    "%load_ext rpy2.ipython"
   ]
  },
  {
   "cell_type": "code",
   "execution_count": 155,
   "id": "dbcdf9ba-25e6-4c14-b900-f30974e4608e",
   "metadata": {},
   "outputs": [
    {
     "name": "stdout",
     "output_type": "stream",
     "text": [
      "/Users/chnam/Library/CloudStorage/OneDrive-UBC/DSCI_525/milestone_1\n"
     ]
    }
   ],
   "source": [
    "# Please change the path for the data files\n",
    "%cd /Users/chnam/OneDrive - UBC/DSCI_525/milestone_1/"
   ]
  },
  {
   "cell_type": "markdown",
   "id": "35ec7b7b-2f2e-4e21-951e-0719903e50f8",
   "metadata": {},
   "source": [
    "We first loaded the data using `pyarrow` and convert the data into a `rarrow table`."
   ]
  },
  {
   "cell_type": "code",
   "execution_count": null,
   "id": "5545137a-f7db-44cc-ae9c-35955c195f5d",
   "metadata": {},
   "outputs": [],
   "source": [
    "# Use R and python interchangeably (with arrow)\n",
    "import pyarrow.dataset as ds\n",
    "import rpy2_arrow.pyarrow_rarrow as pyra"
   ]
  },
  {
   "cell_type": "code",
   "execution_count": null,
   "id": "606a5b7f-51d3-44ba-a157-ad6b2f440dcd",
   "metadata": {},
   "outputs": [],
   "source": [
    "%%time\n",
    "dataset = ds.dataset(\"rainforest/combined.csv\", format=\"csv\")\n",
    "\n",
    "# Converting the `pyarrow dataset` to a `pyarrow table`\n",
    "table = dataset.to_table()\n",
    "\n",
    "# Converting a `pyarrow table` to a `rarrow table`\n",
    "r_table = pyra.converter.py2rpy(table)"
   ]
  },
  {
   "cell_type": "markdown",
   "id": "72e318a9-8f79-44c3-828a-e622cfbece2d",
   "metadata": {},
   "source": [
    "We transfered the table to `R`, minimizing the time in serialization / deserialization."
   ]
  },
  {
   "cell_type": "code",
   "execution_count": null,
   "id": "ce2587e3-a7b4-4627-85b0-1f915f325258",
   "metadata": {},
   "outputs": [],
   "source": [
    "%%R\n",
    "suppressMessages(library(dplyr))\n",
    "suppressMessages(library(readr))"
   ]
  },
  {
   "cell_type": "code",
   "execution_count": 161,
   "id": "749fd420-5c4c-4d79-815c-d994ff82f222",
   "metadata": {},
   "outputs": [
    {
     "name": "stdout",
     "output_type": "stream",
     "text": [
      "# A tibble: 27 × 2\n",
      "   model                  n\n",
      "   <chr>              <int>\n",
      " 1 MPI-ESM-1-2-HAM   966420\n",
      " 2 AWI-ESM-1-1-LR    966420\n",
      " 3 NorESM2-LM        919800\n",
      " 4 ACCESS-CM2       1932840\n",
      " 5 FGOALS-f3-L      3219300\n",
      " 6 CMCC-CM2-HR4     3541230\n",
      " 7 MRI-ESM2-0       3037320\n",
      " 8 GFDL-CM4         3219300\n",
      " 9 BCC-CSM2-MR      3035340\n",
      "10 EC-Earth3-Veg-LR 3037320\n",
      "# ℹ 17 more rows\n",
      "# ℹ Use `print(n = ...)` to see more rows\n",
      "Time difference of 0.02721 secs\n"
     ]
    }
   ],
   "source": [
    "%%R -i r_table\n",
    "# EDA (count by model)\n",
    "start_time <- Sys.time()\n",
    "result <- r_table %>%\n",
    "    select(model) %>%\n",
    "    count(model)\n",
    "end_time <- Sys.time()\n",
    "print(result %>% collect())\n",
    "print(end_time - start_time)"
   ]
  },
  {
   "cell_type": "code",
   "execution_count": 162,
   "id": "124346e6-f9d9-426b-84ff-545d906b61da",
   "metadata": {},
   "outputs": [
    {
     "name": "stdout",
     "output_type": "stream",
     "text": [
      "# A tibble: 3,219,300 × 7\n",
      "   time                lat_min lat_max lon_min lon_max `rain (mm/day)` model    \n",
      "   <dttm>                <dbl>   <dbl>   <dbl>   <dbl>           <dbl> <chr>    \n",
      " 1 1913-09-19 04:00:00      NA     -36      NA    141.              NA GFDL-ESM4\n",
      " 2 1913-09-20 04:00:00      NA     -36      NA    141.              NA GFDL-ESM4\n",
      " 3 1913-09-21 04:00:00      NA     -36      NA    141.              NA GFDL-ESM4\n",
      " 4 1913-09-22 04:00:00      NA     -36      NA    141.              NA GFDL-ESM4\n",
      " 5 1913-09-23 04:00:00      NA     -36      NA    141.              NA GFDL-ESM4\n",
      " 6 1913-09-24 04:00:00      NA     -36      NA    141.              NA GFDL-ESM4\n",
      " 7 1913-09-25 04:00:00      NA     -36      NA    141.              NA GFDL-ESM4\n",
      " 8 1913-09-26 04:00:00      NA     -36      NA    141.              NA GFDL-ESM4\n",
      " 9 1913-09-27 04:00:00      NA     -36      NA    141.              NA GFDL-ESM4\n",
      "10 1913-09-28 04:00:00      NA     -36      NA    141.              NA GFDL-ESM4\n",
      "# ℹ 3,219,290 more rows\n",
      "# ℹ Use `print(n = ...)` to see more rows\n",
      "Time difference of 0.01959991 secs\n"
     ]
    }
   ],
   "source": [
    "%%R\n",
    "# EDA (list records with NA `rain (mm/day)`)\n",
    "start_time <- Sys.time()\n",
    "result <- r_table %>%\n",
    "    select(time, lat_min, lat_max, lon_min, lon_max, `rain (mm/day)`, model) %>%\n",
    "    filter(is.na(`rain (mm/day)`))\n",
    "end_time <- Sys.time()\n",
    "print(result %>% collect())\n",
    "print(end_time - start_time)"
   ]
  }
 ],
 "metadata": {
  "kernelspec": {
   "display_name": "Python [conda env:525_2023]",
   "language": "python",
   "name": "conda-env-525_2023-py"
  },
  "language_info": {
   "codemirror_mode": {
    "name": "ipython",
    "version": 3
   },
   "file_extension": ".py",
   "mimetype": "text/x-python",
   "name": "python",
   "nbconvert_exporter": "python",
   "pygments_lexer": "ipython3",
   "version": "3.10.10"
  }
 },
 "nbformat": 4,
 "nbformat_minor": 5
}
