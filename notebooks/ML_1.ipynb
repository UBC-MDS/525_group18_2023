{
 "cells": [
  {
   "cell_type": "markdown",
   "id": "da354481-9116-4eb7-8f80-6afd28fc5381",
   "metadata": {},
   "source": [
    "# Milestone 1: Tackling big data on your lab¶"
   ]
  },
  {
   "cell_type": "markdown",
   "id": "5f76233d-eb19-4b66-9a5d-32c38796ad84",
   "metadata": {},
   "source": [
    "In this exercise we are different data to analyze a big data set locally. We are loading a data set on [figshare](https://figshare.com/articles/dataset/Daily_rainfall_over_NSW_Australia/14096681) reporting the time we needed to run the analyses in our groupmates' laptops."
   ]
  },
  {
   "cell_type": "markdown",
   "id": "480ea2e9-3601-4b10-b365-7fbdbdb963c9",
   "metadata": {},
   "source": [
    "## Basic set-ups"
   ]
  },
  {
   "cell_type": "code",
   "execution_count": 1,
   "id": "adffca48-8290-44e3-9521-fefd931a7d24",
   "metadata": {},
   "outputs": [],
   "source": [
    "# import all the packages needed\n",
    "import re\n",
    "import os\n",
    "import glob\n",
    "import zipfile\n",
    "import requests\n",
    "from urllib.request import urlretrieve\n",
    "import json\n",
    "import pandas as pd\n",
    "import numpy as np"
   ]
  },
  {
   "cell_type": "code",
   "execution_count": 2,
   "id": "898c264a-22bb-4a98-855f-b50f8330f32c",
   "metadata": {},
   "outputs": [
    {
     "name": "stdout",
     "output_type": "stream",
     "text": [
      "/home/jenit/Desktop/Labs/Block_6/525/525_group18_2023/data\n"
     ]
    }
   ],
   "source": [
    "# Project path\n",
    "## Please change it to the location of your choice\n",
    "%cd \"/home/jenit/Desktop/Labs/Block_6/525/525_group18_2023/data\""
   ]
  },
  {
   "cell_type": "markdown",
   "id": "9c39d4b9-d781-455c-8426-dd1bea438f79",
   "metadata": {},
   "source": [
    "## Downloading the data"
   ]
  },
  {
   "cell_type": "markdown",
   "id": "bb67271e-daad-413f-b24d-0a721c909923",
   "metadata": {},
   "source": [
    "We are using the figshare API to download the data for the analysis."
   ]
  },
  {
   "cell_type": "code",
   "execution_count": 3,
   "id": "71562498-7988-4b2e-b9b8-06a76cece9b1",
   "metadata": {},
   "outputs": [],
   "source": [
    "# Metadata\n",
    "## Article ID of figshare\n",
    "article_id = 14096681  \n",
    "# Beuzen, Tomas (2021): Daily rainfall over NSW, Australia. figshare. Dataset. https://doi.org/10.6084/m9.figshare.14096681.v3\n",
    "\n",
    "## URL\n",
    "url = f\"https://api.figshare.com/v2/articles/{article_id}\"\n",
    "\n",
    "## Header\n",
    "headers = {\"Content-Type\": \"application/json\"}"
   ]
  },
  {
   "cell_type": "code",
   "execution_count": 4,
   "id": "f6789237-89b5-4761-a1c0-4f8ca8854d06",
   "metadata": {},
   "outputs": [],
   "source": [
    "# Change the output directory for the data files\n",
    "output_directory = \"rainforest/\" "
   ]
  },
  {
   "cell_type": "code",
   "execution_count": 5,
   "id": "995ea72e-6b41-4545-a13b-823d847b6c4d",
   "metadata": {},
   "outputs": [
    {
     "data": {
      "text/plain": [
       "[{'id': 26579150,\n",
       "  'name': 'daily_rainfall_2014.png',\n",
       "  'size': 58863,\n",
       "  'is_link_only': False,\n",
       "  'download_url': 'https://ndownloader.figshare.com/files/26579150',\n",
       "  'supplied_md5': 'fd32a2ffde300a31f8d63b1825d47e5e',\n",
       "  'computed_md5': 'fd32a2ffde300a31f8d63b1825d47e5e'},\n",
       " {'id': 26579171,\n",
       "  'name': 'environment.yml',\n",
       "  'size': 192,\n",
       "  'is_link_only': False,\n",
       "  'download_url': 'https://ndownloader.figshare.com/files/26579171',\n",
       "  'supplied_md5': '060b2020017eed93a1ee7dd8c65b2f34',\n",
       "  'computed_md5': '060b2020017eed93a1ee7dd8c65b2f34'},\n",
       " {'id': 26586554,\n",
       "  'name': 'README.md',\n",
       "  'size': 5422,\n",
       "  'is_link_only': False,\n",
       "  'download_url': 'https://ndownloader.figshare.com/files/26586554',\n",
       "  'supplied_md5': '61858c6cc0e6a6d6663a7e4c75bbd88c',\n",
       "  'computed_md5': '61858c6cc0e6a6d6663a7e4c75bbd88c'},\n",
       " {'id': 26766812,\n",
       "  'name': 'data.zip',\n",
       "  'size': 814041183,\n",
       "  'is_link_only': False,\n",
       "  'download_url': 'https://ndownloader.figshare.com/files/26766812',\n",
       "  'supplied_md5': 'b517383f76e77bd03755a63a8ff83ee9',\n",
       "  'computed_md5': 'b517383f76e77bd03755a63a8ff83ee9'},\n",
       " {'id': 26766815,\n",
       "  'name': 'get_data.py',\n",
       "  'size': 4113,\n",
       "  'is_link_only': False,\n",
       "  'download_url': 'https://ndownloader.figshare.com/files/26766815',\n",
       "  'supplied_md5': '7829028495fd9dec9680ea013474afa6',\n",
       "  'computed_md5': '7829028495fd9dec9680ea013474afa6'}]"
      ]
     },
     "execution_count": 5,
     "metadata": {},
     "output_type": "execute_result"
    }
   ],
   "source": [
    "# Send a GET request to list the available files\n",
    "response = requests.request(\"GET\", url, headers=headers)\n",
    "data = json.loads(response.text)  # this contains all the articles data\n",
    "files = data[\"files\"]             # this is just the data about the files\n",
    "files"
   ]
  },
  {
   "cell_type": "code",
   "execution_count": 8,
   "id": "98b62aa3-0dce-4e61-b548-09a688ddb9fb",
   "metadata": {},
   "outputs": [
    {
     "name": "stdout",
     "output_type": "stream",
     "text": [
      "CPU times: user 2.91 s, sys: 3.42 s, total: 6.32 s\n",
      "Wall time: 2min 2s\n"
     ]
    }
   ],
   "source": [
    "%%time\n",
    "# Download data.zip\n",
    "files_to_dl = [\"data.zip\"]  # data.zip\n",
    "for file in files:\n",
    "    if file[\"name\"] in files_to_dl:\n",
    "        os.makedirs(output_directory, exist_ok=True)\n",
    "        urlretrieve(file[\"download_url\"], output_directory + file[\"name\"])"
   ]
  },
  {
   "cell_type": "code",
   "execution_count": 9,
   "id": "26675f1f-1fee-4ab7-9b9d-11ace1049255",
   "metadata": {},
   "outputs": [
    {
     "name": "stdout",
     "output_type": "stream",
     "text": [
      "CPU times: user 8.37 s, sys: 2.99 s, total: 11.4 s\n",
      "Wall time: 11.6 s\n"
     ]
    }
   ],
   "source": [
    "%%time\n",
    "# Extract data.zip\n",
    "with zipfile.ZipFile(os.path.join(output_directory, \"data.zip\"), 'r') as f:\n",
    "    f.extractall(output_directory)"
   ]
  },
  {
   "cell_type": "code",
   "execution_count": 10,
   "id": "7b39ecbc-f140-469e-a132-8456367002da",
   "metadata": {},
   "outputs": [
    {
     "name": "stdout",
     "output_type": "stream",
     "text": [
      "total 6016568\n",
      "-rw-rw-r-- 1 jenit jenit 814041183 Mar 31 15:13 \u001b[0m\u001b[01;31mdata.zip\u001b[0m\n",
      "-rw-rw-r-- 1 jenit jenit  95376895 Mar 31 15:13 MPI-ESM-1-2-HAM_daily_rainfall_NSW.csv\n",
      "-rw-rw-r-- 1 jenit jenit  94960113 Mar 31 15:13 AWI-ESM-1-1-LR_daily_rainfall_NSW.csv\n",
      "-rw-rw-r-- 1 jenit jenit  82474546 Mar 31 15:13 NorESM2-LM_daily_rainfall_NSW.csv\n",
      "-rw-rw-r-- 1 jenit jenit 127613760 Mar 31 15:13 ACCESS-CM2_daily_rainfall_NSW.csv\n",
      "-rw-rw-r-- 1 jenit jenit 232118894 Mar 31 15:13 FGOALS-f3-L_daily_rainfall_NSW.csv\n",
      "-rw-rw-r-- 1 jenit jenit 330360682 Mar 31 15:13 CMCC-CM2-HR4_daily_rainfall_NSW.csv\n",
      "-rw-rw-r-- 1 jenit jenit 254009247 Mar 31 15:13 MRI-ESM2-0_daily_rainfall_NSW.csv\n",
      "-rw-rw-r-- 1 jenit jenit 235661418 Mar 31 15:13 GFDL-CM4_daily_rainfall_NSW.csv\n",
      "-rw-rw-r-- 1 jenit jenit 294260911 Mar 31 15:13 BCC-CSM2-MR_daily_rainfall_NSW.csv\n",
      "-rw-rw-r-- 1 jenit jenit 295768615 Mar 31 15:13 EC-Earth3-Veg-LR_daily_rainfall_NSW.csv\n",
      "-rw-rw-r-- 1 jenit jenit 328852379 Mar 31 15:13 CMCC-ESM2_daily_rainfall_NSW.csv\n",
      "-rw-rw-r-- 1 jenit jenit  67784105 Mar 31 15:13 NESM3_daily_rainfall_NSW.csv\n",
      "-rw-rw-r-- 1 jenit jenit  95640682 Mar 31 15:13 MPI-ESM1-2-LR_daily_rainfall_NSW.csv\n",
      "-rw-rw-r-- 1 jenit jenit 114707410 Mar 31 15:13 ACCESS-ESM1-5_daily_rainfall_NSW.csv\n",
      "-rw-rw-r-- 1 jenit jenit 116179272 Mar 31 15:13 FGOALS-g3_daily_rainfall_NSW.csv\n",
      "-rw-rw-r-- 1 jenit jenit 102517965 Mar 31 15:13 INM-CM4-8_daily_rainfall_NSW.csv\n",
      "-rw-rw-r-- 1 jenit jenit 515458033 Mar 31 15:13 MPI-ESM1-2-HR_daily_rainfall_NSW.csv\n",
      "-rw-rw-r-- 1 jenit jenit 332813281 Mar 31 15:13 TaiESM1_daily_rainfall_NSW.csv\n",
      "-rw-rw-r-- 1 jenit jenit 337555851 Mar 31 15:13 NorESM2-MM_daily_rainfall_NSW.csv\n",
      "-rw-rw-r-- 1 jenit jenit 328787320 Mar 31 15:13 CMCC-CM2-SR5_daily_rainfall_NSW.csv\n",
      "-rw-rw-r-- 1 jenit jenit    952202 Mar 31 15:13 observed_daily_rainfall_SYD.csv\n",
      "-rw-rw-r-- 1 jenit jenit  93829697 Mar 31 15:13 KIOST-ESM_daily_rainfall_NSW.csv\n",
      "-rw-rw-r-- 1 jenit jenit 102692289 Mar 31 15:13 INM-CM5-0_daily_rainfall_NSW.csv\n",
      "-rw-rw-r-- 1 jenit jenit 206822938 Mar 31 15:13 MIROC6_daily_rainfall_NSW.csv\n",
      "-rw-rw-r-- 1 jenit jenit  55224437 Mar 31 15:13 BCC-ESM1_daily_rainfall_NSW.csv\n",
      "-rw-rw-r-- 1 jenit jenit 124586961 Mar 31 15:13 GFDL-ESM4_daily_rainfall_NSW.csv\n",
      "-rw-rw-r-- 1 jenit jenit  46286371 Mar 31 15:13 CanESM5_daily_rainfall_NSW.csv\n",
      "-rw-rw-r-- 1 jenit jenit 333489879 Mar 31 15:13 SAM0-UNICON_daily_rainfall_NSW.csv\n",
      "drwxrwxr-x 2 jenit jenit      4096 Mar 31 15:13 \u001b[01;34m__MACOSX\u001b[0m/\n"
     ]
    }
   ],
   "source": [
    "# List the folder\n",
    "%ls -ltr rainforest"
   ]
  },
  {
   "cell_type": "code",
   "execution_count": 11,
   "id": "798733e3-dca3-488c-87ba-df39f2d4b9bb",
   "metadata": {},
   "outputs": [
    {
     "data": {
      "text/plain": [
       "['rainforest/CMCC-CM2-SR5_daily_rainfall_NSW.csv',\n",
       " 'rainforest/MPI-ESM1-2-LR_daily_rainfall_NSW.csv',\n",
       " 'rainforest/INM-CM5-0_daily_rainfall_NSW.csv',\n",
       " 'rainforest/NorESM2-LM_daily_rainfall_NSW.csv',\n",
       " 'rainforest/KIOST-ESM_daily_rainfall_NSW.csv',\n",
       " 'rainforest/FGOALS-g3_daily_rainfall_NSW.csv',\n",
       " 'rainforest/observed_daily_rainfall_SYD.csv',\n",
       " 'rainforest/CMCC-CM2-HR4_daily_rainfall_NSW.csv',\n",
       " 'rainforest/NESM3_daily_rainfall_NSW.csv',\n",
       " 'rainforest/CMCC-ESM2_daily_rainfall_NSW.csv',\n",
       " 'rainforest/EC-Earth3-Veg-LR_daily_rainfall_NSW.csv',\n",
       " 'rainforest/FGOALS-f3-L_daily_rainfall_NSW.csv',\n",
       " 'rainforest/GFDL-CM4_daily_rainfall_NSW.csv',\n",
       " 'rainforest/CanESM5_daily_rainfall_NSW.csv',\n",
       " 'rainforest/INM-CM4-8_daily_rainfall_NSW.csv',\n",
       " 'rainforest/ACCESS-ESM1-5_daily_rainfall_NSW.csv',\n",
       " 'rainforest/MPI-ESM-1-2-HAM_daily_rainfall_NSW.csv',\n",
       " 'rainforest/SAM0-UNICON_daily_rainfall_NSW.csv',\n",
       " 'rainforest/BCC-ESM1_daily_rainfall_NSW.csv',\n",
       " 'rainforest/BCC-CSM2-MR_daily_rainfall_NSW.csv',\n",
       " 'rainforest/MPI-ESM1-2-HR_daily_rainfall_NSW.csv',\n",
       " 'rainforest/MRI-ESM2-0_daily_rainfall_NSW.csv',\n",
       " 'rainforest/NorESM2-MM_daily_rainfall_NSW.csv',\n",
       " 'rainforest/GFDL-ESM4_daily_rainfall_NSW.csv',\n",
       " 'rainforest/TaiESM1_daily_rainfall_NSW.csv',\n",
       " 'rainforest/AWI-ESM-1-1-LR_daily_rainfall_NSW.csv',\n",
       " 'rainforest/MIROC6_daily_rainfall_NSW.csv',\n",
       " 'rainforest/ACCESS-CM2_daily_rainfall_NSW.csv']"
      ]
     },
     "execution_count": 11,
     "metadata": {},
     "output_type": "execute_result"
    }
   ],
   "source": [
    "# Show a list of paths\n",
    "files = glob.glob('rainforest/*.csv')\n",
    "files"
   ]
  },
  {
   "cell_type": "markdown",
   "id": "20e25afa-59ed-43c9-9bb0-9981dc6b6a2b",
   "metadata": {},
   "source": [
    "## Data Combination"
   ]
  },
  {
   "cell_type": "markdown",
   "id": "5b809a21-8400-4aba-9cd8-00c50c5a0255",
   "metadata": {},
   "source": [
    "We are extracting the common column names for all the `.csv` files."
   ]
  },
  {
   "cell_type": "code",
   "execution_count": 12,
   "id": "8a06be4f-851e-4da8-9ebb-8f6c52d81db5",
   "metadata": {},
   "outputs": [
    {
     "data": {
      "text/plain": [
       "['time', 'lat_min', 'lat_max', 'lon_min', 'lon_max', 'rain (mm/day)']"
      ]
     },
     "execution_count": 12,
     "metadata": {},
     "output_type": "execute_result"
    }
   ],
   "source": [
    "# Show the columns available in a data file\n",
    "sample1 = pd.read_csv('rainforest/SAM0-UNICON_daily_rainfall_NSW.csv')\n",
    "cols = sample1.columns.to_list()\n",
    "cols"
   ]
  },
  {
   "cell_type": "code",
   "execution_count": 13,
   "id": "64b2acba-0633-4187-a5b7-a723762f9219",
   "metadata": {},
   "outputs": [
    {
     "name": "stdout",
     "output_type": "stream",
     "text": [
      "CPU times: user 4min 19s, sys: 18.7 s, total: 4min 37s\n",
      "Wall time: 4min 41s\n"
     ]
    }
   ],
   "source": [
    "%%time\n",
    "## Combine data CSVs into a single CSV using pandas\n",
    "files = glob.glob('rainforest/*.csv')\n",
    "excluded_files = ['rainforest/observed_daily_rainfall_SYD.csv', 'rainforest/combined.csv']\n",
    "\n",
    "df = pd.concat((pd.read_csv(file,\n",
    "                            index_col=False, \n",
    "                            usecols=cols,\n",
    "                            # low_memory = False\n",
    "                           )\n",
    "                .assign(model=re.findall('/([^_]*)', file)[0]) # find the model name before the first underscore and assign it to \"model\"\n",
    "                for file in files if file not in excluded_files # do not include observed_daily_rainfall_SYD.csv and combined.csv\n",
    "               )\n",
    "              )\n",
    "df.to_csv(\"rainforest/combined.csv\")"
   ]
  },
  {
   "cell_type": "code",
   "execution_count": 14,
   "id": "6a9f3a0f-99a4-404f-90cf-317da5a33075",
   "metadata": {},
   "outputs": [
    {
     "data": {
      "text/plain": [
       "(62467843, 7)"
      ]
     },
     "execution_count": 14,
     "metadata": {},
     "output_type": "execute_result"
    }
   ],
   "source": [
    "df.shape"
   ]
  },
  {
   "cell_type": "code",
   "execution_count": 15,
   "id": "e357d171",
   "metadata": {},
   "outputs": [
    {
     "data": {
      "text/html": [
       "<div>\n",
       "<style scoped>\n",
       "    .dataframe tbody tr th:only-of-type {\n",
       "        vertical-align: middle;\n",
       "    }\n",
       "\n",
       "    .dataframe tbody tr th {\n",
       "        vertical-align: top;\n",
       "    }\n",
       "\n",
       "    .dataframe thead th {\n",
       "        text-align: right;\n",
       "    }\n",
       "</style>\n",
       "<table border=\"1\" class=\"dataframe\">\n",
       "  <thead>\n",
       "    <tr style=\"text-align: right;\">\n",
       "      <th></th>\n",
       "      <th>time</th>\n",
       "      <th>lat_min</th>\n",
       "      <th>lat_max</th>\n",
       "      <th>lon_min</th>\n",
       "      <th>lon_max</th>\n",
       "      <th>rain (mm/day)</th>\n",
       "      <th>model</th>\n",
       "    </tr>\n",
       "  </thead>\n",
       "  <tbody>\n",
       "    <tr>\n",
       "      <th>0</th>\n",
       "      <td>1889-01-01 12:00:00</td>\n",
       "      <td>-35.811518</td>\n",
       "      <td>-34.86911</td>\n",
       "      <td>140.625</td>\n",
       "      <td>141.875</td>\n",
       "      <td>4.244271e-04</td>\n",
       "      <td>CMCC-CM2-SR5</td>\n",
       "    </tr>\n",
       "    <tr>\n",
       "      <th>1</th>\n",
       "      <td>1889-01-02 12:00:00</td>\n",
       "      <td>-35.811518</td>\n",
       "      <td>-34.86911</td>\n",
       "      <td>140.625</td>\n",
       "      <td>141.875</td>\n",
       "      <td>6.157990e-03</td>\n",
       "      <td>CMCC-CM2-SR5</td>\n",
       "    </tr>\n",
       "    <tr>\n",
       "      <th>2</th>\n",
       "      <td>1889-01-03 12:00:00</td>\n",
       "      <td>-35.811518</td>\n",
       "      <td>-34.86911</td>\n",
       "      <td>140.625</td>\n",
       "      <td>141.875</td>\n",
       "      <td>2.182741e-08</td>\n",
       "      <td>CMCC-CM2-SR5</td>\n",
       "    </tr>\n",
       "    <tr>\n",
       "      <th>3</th>\n",
       "      <td>1889-01-04 12:00:00</td>\n",
       "      <td>-35.811518</td>\n",
       "      <td>-34.86911</td>\n",
       "      <td>140.625</td>\n",
       "      <td>141.875</td>\n",
       "      <td>0.000000e+00</td>\n",
       "      <td>CMCC-CM2-SR5</td>\n",
       "    </tr>\n",
       "    <tr>\n",
       "      <th>4</th>\n",
       "      <td>1889-01-05 12:00:00</td>\n",
       "      <td>-35.811518</td>\n",
       "      <td>-34.86911</td>\n",
       "      <td>140.625</td>\n",
       "      <td>141.875</td>\n",
       "      <td>8.965533e-09</td>\n",
       "      <td>CMCC-CM2-SR5</td>\n",
       "    </tr>\n",
       "  </tbody>\n",
       "</table>\n",
       "</div>"
      ],
      "text/plain": [
       "                  time    lat_min   lat_max  lon_min  lon_max  rain (mm/day)  \\\n",
       "0  1889-01-01 12:00:00 -35.811518 -34.86911  140.625  141.875   4.244271e-04   \n",
       "1  1889-01-02 12:00:00 -35.811518 -34.86911  140.625  141.875   6.157990e-03   \n",
       "2  1889-01-03 12:00:00 -35.811518 -34.86911  140.625  141.875   2.182741e-08   \n",
       "3  1889-01-04 12:00:00 -35.811518 -34.86911  140.625  141.875   0.000000e+00   \n",
       "4  1889-01-05 12:00:00 -35.811518 -34.86911  140.625  141.875   8.965533e-09   \n",
       "\n",
       "          model  \n",
       "0  CMCC-CM2-SR5  \n",
       "1  CMCC-CM2-SR5  \n",
       "2  CMCC-CM2-SR5  \n",
       "3  CMCC-CM2-SR5  \n",
       "4  CMCC-CM2-SR5  "
      ]
     },
     "execution_count": 15,
     "metadata": {},
     "output_type": "execute_result"
    }
   ],
   "source": [
    "df.head()"
   ]
  },
  {
   "cell_type": "code",
   "execution_count": 16,
   "id": "06da3800",
   "metadata": {},
   "outputs": [],
   "source": [
    "# Convert to float32\n",
    "df32 = df.astype('float32', errors='ignore')"
   ]
  },
  {
   "attachments": {},
   "cell_type": "markdown",
   "id": "f3d7ee17-fca0-49bb-a2b1-3f4677699cc7",
   "metadata": {},
   "source": [
    "| Team Member | Operating System | RAM | Processor | Is SSD | Time taken |\n",
    "|:-----------:|:----------------:|:---:|:---------:|:------:|:----------:|\n",
    "| Yaou        | Windows          | 16GB| Intel(R) Core(TM) i7-1165G7 CPU @ 2.80GHz |Yes            |6min 47s          |\n",
    "| Morris      | Windows          | 8GB | Intel(R) Core(TM) i7-8550U CPU @ 1.80GHz   1.99 GHz | Yes    |Memory Error            |\n",
    "| Markus      | Mac              | 24GB | M2       | Yes    |3min 41s            |\n",
    "| Jenit       |  Ubunutu | 16GB |  AMD Ryzen 7 6800H with Radeon Graphics | Yes | 4min 41s|"
   ]
  },
  {
   "cell_type": "markdown",
   "id": "7b523e77-24bc-48f3-9c16-5c3b2680812f",
   "metadata": {},
   "source": [
    "The run time for combining the data frames is shorter for machines with better chips and larger RAM. One of our members' laptop cannot load the data frame because the RAM on his computer is too small."
   ]
  },
  {
   "cell_type": "code",
   "execution_count": 17,
   "id": "07445215-3c51-4bf8-94b0-52aef8386769",
   "metadata": {},
   "outputs": [
    {
     "name": "stdout",
     "output_type": "stream",
     "text": [
      "Memory usage with float64: 3997.94 MB\n",
      "Memory usage with float32: 2748.59 MB\n"
     ]
    }
   ],
   "source": [
    "# Check memory usage\n",
    "print(f\"Memory usage with float64: {df.memory_usage().sum() / 1e6:.2f} MB\")\n",
    "print(f\"Memory usage with float32: {df32.memory_usage().sum() / 1e6:.2f} MB\")"
   ]
  },
  {
   "cell_type": "markdown",
   "id": "0d0d8aca-3dab-4669-9187-8c6fadec357b",
   "metadata": {},
   "source": [
    "## Simple EDA"
   ]
  },
  {
   "cell_type": "markdown",
   "id": "b47d646a-4d02-4b36-8b54-fc470029da5e",
   "metadata": {},
   "source": [
    "We are using 2 different techniques to to reduce memory used for an EDA."
   ]
  },
  {
   "cell_type": "markdown",
   "id": "c81bf907-047f-44ee-aac4-a3ca9ef6f844",
   "metadata": {},
   "source": [
    "The first approach we are using is by loading only the columns we want to use in our analysis."
   ]
  },
  {
   "cell_type": "code",
   "execution_count": 6,
   "id": "ef3cef55-daf9-43bc-8d43-4c22e016a21d",
   "metadata": {},
   "outputs": [
    {
     "name": "stdout",
     "output_type": "stream",
     "text": [
      "CPU times: user 19.3 s, sys: 3.9 s, total: 23.2 s\n",
      "Wall time: 26 s\n"
     ]
    }
   ],
   "source": [
    "%%time\n",
    "# EDA (load data - select columns)\n",
    "use_cols = ['rain (mm/day)', 'model']\n",
    "\n",
    "df = pd.read_csv(\"rainforest/combined.csv\",\n",
    "                   usecols=use_cols)"
   ]
  },
  {
   "attachments": {},
   "cell_type": "markdown",
   "id": "ad66fdcc-db74-471e-b12f-44a64f66a2de",
   "metadata": {},
   "source": [
    "| Team Member | Operating System | RAM | Processor | Is SSD | Time taken |\n",
    "|:-----------:|:----------------:|:---:|:---------:|:------:|:----------:|\n",
    "| Yaou        | Windows          | 16GB| Intel(R) Core(TM) i7-1165G7 CPU @ 2.80GHz |Yes            |45.4s          |\n",
    "| Morris      | Windows          | 8GB | Intel(R) Core(TM) i7-8550U CPU @ 1.80GHz   1.99 GHz | Yes    |1min 25s            |\n",
    "| Markus      | Mac              | 24GB | M2       | Yes    |18s            |\n",
    "| Jenit       |  Ubunutu | 16GB |  AMD Ryzen 7 6800H with Radeon Graphics | Yes | 26s |"
   ]
  },
  {
   "cell_type": "code",
   "execution_count": 7,
   "id": "2606593f-c87f-4146-8577-a0e05a04d6dd",
   "metadata": {},
   "outputs": [
    {
     "name": "stdout",
     "output_type": "stream",
     "text": [
      "CPU times: user 2.93 s, sys: 813 ms, total: 3.75 s\n",
      "Wall time: 3.75 s\n"
     ]
    },
    {
     "data": {
      "text/html": [
       "<div>\n",
       "<style scoped>\n",
       "    .dataframe tbody tr th:only-of-type {\n",
       "        vertical-align: middle;\n",
       "    }\n",
       "\n",
       "    .dataframe tbody tr th {\n",
       "        vertical-align: top;\n",
       "    }\n",
       "\n",
       "    .dataframe thead th {\n",
       "        text-align: right;\n",
       "    }\n",
       "</style>\n",
       "<table border=\"1\" class=\"dataframe\">\n",
       "  <thead>\n",
       "    <tr style=\"text-align: right;\">\n",
       "      <th></th>\n",
       "      <th>mean</th>\n",
       "      <th>max</th>\n",
       "      <th>min</th>\n",
       "      <th>median</th>\n",
       "    </tr>\n",
       "    <tr>\n",
       "      <th>model</th>\n",
       "      <th></th>\n",
       "      <th></th>\n",
       "      <th></th>\n",
       "      <th></th>\n",
       "    </tr>\n",
       "  </thead>\n",
       "  <tbody>\n",
       "    <tr>\n",
       "      <th>ACCESS-CM2</th>\n",
       "      <td>1.787025</td>\n",
       "      <td>432.939515</td>\n",
       "      <td>0.000000e+00</td>\n",
       "      <td>1.002723e-01</td>\n",
       "    </tr>\n",
       "    <tr>\n",
       "      <th>ACCESS-ESM1-5</th>\n",
       "      <td>2.217501</td>\n",
       "      <td>202.028315</td>\n",
       "      <td>-3.049319e-18</td>\n",
       "      <td>1.345675e-01</td>\n",
       "    </tr>\n",
       "    <tr>\n",
       "      <th>AWI-ESM-1-1-LR</th>\n",
       "      <td>2.026071</td>\n",
       "      <td>89.465749</td>\n",
       "      <td>9.065210e-14</td>\n",
       "      <td>4.426399e-02</td>\n",
       "    </tr>\n",
       "    <tr>\n",
       "      <th>BCC-CSM2-MR</th>\n",
       "      <td>1.951832</td>\n",
       "      <td>286.226671</td>\n",
       "      <td>3.766800e-24</td>\n",
       "      <td>4.321701e-02</td>\n",
       "    </tr>\n",
       "    <tr>\n",
       "      <th>BCC-ESM1</th>\n",
       "      <td>1.811032</td>\n",
       "      <td>164.058595</td>\n",
       "      <td>9.260348e-25</td>\n",
       "      <td>1.091290e-02</td>\n",
       "    </tr>\n",
       "    <tr>\n",
       "      <th>CMCC-CM2-HR4</th>\n",
       "      <td>2.279350</td>\n",
       "      <td>224.154387</td>\n",
       "      <td>0.000000e+00</td>\n",
       "      <td>2.687256e-01</td>\n",
       "    </tr>\n",
       "    <tr>\n",
       "      <th>CMCC-CM2-SR5</th>\n",
       "      <td>2.383389</td>\n",
       "      <td>202.845832</td>\n",
       "      <td>-4.077885e-13</td>\n",
       "      <td>2.171495e-01</td>\n",
       "    </tr>\n",
       "    <tr>\n",
       "      <th>CMCC-ESM2</th>\n",
       "      <td>2.266125</td>\n",
       "      <td>230.226552</td>\n",
       "      <td>-7.874900e-14</td>\n",
       "      <td>2.028418e-01</td>\n",
       "    </tr>\n",
       "    <tr>\n",
       "      <th>CanESM5</th>\n",
       "      <td>1.894328</td>\n",
       "      <td>173.812797</td>\n",
       "      <td>0.000000e+00</td>\n",
       "      <td>8.639222e-02</td>\n",
       "    </tr>\n",
       "    <tr>\n",
       "      <th>EC-Earth3-Veg-LR</th>\n",
       "      <td>1.516258</td>\n",
       "      <td>181.363752</td>\n",
       "      <td>-1.117158e-18</td>\n",
       "      <td>9.804963e-03</td>\n",
       "    </tr>\n",
       "    <tr>\n",
       "      <th>FGOALS-f3-L</th>\n",
       "      <td>1.627373</td>\n",
       "      <td>221.926296</td>\n",
       "      <td>0.000000e+00</td>\n",
       "      <td>2.216971e-02</td>\n",
       "    </tr>\n",
       "    <tr>\n",
       "      <th>FGOALS-g3</th>\n",
       "      <td>2.156419</td>\n",
       "      <td>231.048214</td>\n",
       "      <td>0.000000e+00</td>\n",
       "      <td>1.972944e-01</td>\n",
       "    </tr>\n",
       "    <tr>\n",
       "      <th>GFDL-CM4</th>\n",
       "      <td>1.414485</td>\n",
       "      <td>213.009969</td>\n",
       "      <td>0.000000e+00</td>\n",
       "      <td>1.884592e-02</td>\n",
       "    </tr>\n",
       "    <tr>\n",
       "      <th>GFDL-ESM4</th>\n",
       "      <td>NaN</td>\n",
       "      <td>NaN</td>\n",
       "      <td>NaN</td>\n",
       "      <td>NaN</td>\n",
       "    </tr>\n",
       "    <tr>\n",
       "      <th>INM-CM4-8</th>\n",
       "      <td>2.811463</td>\n",
       "      <td>213.416666</td>\n",
       "      <td>0.000000e+00</td>\n",
       "      <td>5.721548e-01</td>\n",
       "    </tr>\n",
       "    <tr>\n",
       "      <th>INM-CM5-0</th>\n",
       "      <td>2.669012</td>\n",
       "      <td>183.777840</td>\n",
       "      <td>0.000000e+00</td>\n",
       "      <td>4.226088e-01</td>\n",
       "    </tr>\n",
       "    <tr>\n",
       "      <th>KIOST-ESM</th>\n",
       "      <td>1.102353</td>\n",
       "      <td>171.087103</td>\n",
       "      <td>0.000000e+00</td>\n",
       "      <td>2.348028e-02</td>\n",
       "    </tr>\n",
       "    <tr>\n",
       "      <th>MIROC6</th>\n",
       "      <td>2.301662</td>\n",
       "      <td>226.551758</td>\n",
       "      <td>2.131704e-32</td>\n",
       "      <td>1.335269e-01</td>\n",
       "    </tr>\n",
       "    <tr>\n",
       "      <th>MPI-ESM-1-2-HAM</th>\n",
       "      <td>1.610720</td>\n",
       "      <td>94.270782</td>\n",
       "      <td>3.269844e-13</td>\n",
       "      <td>4.706947e-13</td>\n",
       "    </tr>\n",
       "    <tr>\n",
       "      <th>MPI-ESM1-2-HR</th>\n",
       "      <td>0.995569</td>\n",
       "      <td>165.985561</td>\n",
       "      <td>1.086636e-13</td>\n",
       "      <td>1.561897e-13</td>\n",
       "    </tr>\n",
       "    <tr>\n",
       "      <th>MPI-ESM1-2-LR</th>\n",
       "      <td>1.074308</td>\n",
       "      <td>83.957893</td>\n",
       "      <td>9.032558e-14</td>\n",
       "      <td>1.393234e-13</td>\n",
       "    </tr>\n",
       "    <tr>\n",
       "      <th>MRI-ESM2-0</th>\n",
       "      <td>1.368030</td>\n",
       "      <td>155.997464</td>\n",
       "      <td>0.000000e+00</td>\n",
       "      <td>4.738757e-03</td>\n",
       "    </tr>\n",
       "    <tr>\n",
       "      <th>NESM3</th>\n",
       "      <td>1.621936</td>\n",
       "      <td>113.945680</td>\n",
       "      <td>1.417632e-13</td>\n",
       "      <td>6.627137e-03</td>\n",
       "    </tr>\n",
       "    <tr>\n",
       "      <th>NorESM2-LM</th>\n",
       "      <td>2.230799</td>\n",
       "      <td>131.410211</td>\n",
       "      <td>0.000000e+00</td>\n",
       "      <td>9.282670e-02</td>\n",
       "    </tr>\n",
       "    <tr>\n",
       "      <th>NorESM2-MM</th>\n",
       "      <td>2.232966</td>\n",
       "      <td>263.833693</td>\n",
       "      <td>0.000000e+00</td>\n",
       "      <td>8.187802e-02</td>\n",
       "    </tr>\n",
       "    <tr>\n",
       "      <th>SAM0-UNICON</th>\n",
       "      <td>2.169676</td>\n",
       "      <td>208.259743</td>\n",
       "      <td>-4.866322e-14</td>\n",
       "      <td>6.444909e-02</td>\n",
       "    </tr>\n",
       "    <tr>\n",
       "      <th>TaiESM1</th>\n",
       "      <td>2.224576</td>\n",
       "      <td>200.510359</td>\n",
       "      <td>-3.807373e-12</td>\n",
       "      <td>1.167243e-01</td>\n",
       "    </tr>\n",
       "  </tbody>\n",
       "</table>\n",
       "</div>"
      ],
      "text/plain": [
       "                      mean         max           min        median\n",
       "model                                                             \n",
       "ACCESS-CM2        1.787025  432.939515  0.000000e+00  1.002723e-01\n",
       "ACCESS-ESM1-5     2.217501  202.028315 -3.049319e-18  1.345675e-01\n",
       "AWI-ESM-1-1-LR    2.026071   89.465749  9.065210e-14  4.426399e-02\n",
       "BCC-CSM2-MR       1.951832  286.226671  3.766800e-24  4.321701e-02\n",
       "BCC-ESM1          1.811032  164.058595  9.260348e-25  1.091290e-02\n",
       "CMCC-CM2-HR4      2.279350  224.154387  0.000000e+00  2.687256e-01\n",
       "CMCC-CM2-SR5      2.383389  202.845832 -4.077885e-13  2.171495e-01\n",
       "CMCC-ESM2         2.266125  230.226552 -7.874900e-14  2.028418e-01\n",
       "CanESM5           1.894328  173.812797  0.000000e+00  8.639222e-02\n",
       "EC-Earth3-Veg-LR  1.516258  181.363752 -1.117158e-18  9.804963e-03\n",
       "FGOALS-f3-L       1.627373  221.926296  0.000000e+00  2.216971e-02\n",
       "FGOALS-g3         2.156419  231.048214  0.000000e+00  1.972944e-01\n",
       "GFDL-CM4          1.414485  213.009969  0.000000e+00  1.884592e-02\n",
       "GFDL-ESM4              NaN         NaN           NaN           NaN\n",
       "INM-CM4-8         2.811463  213.416666  0.000000e+00  5.721548e-01\n",
       "INM-CM5-0         2.669012  183.777840  0.000000e+00  4.226088e-01\n",
       "KIOST-ESM         1.102353  171.087103  0.000000e+00  2.348028e-02\n",
       "MIROC6            2.301662  226.551758  2.131704e-32  1.335269e-01\n",
       "MPI-ESM-1-2-HAM   1.610720   94.270782  3.269844e-13  4.706947e-13\n",
       "MPI-ESM1-2-HR     0.995569  165.985561  1.086636e-13  1.561897e-13\n",
       "MPI-ESM1-2-LR     1.074308   83.957893  9.032558e-14  1.393234e-13\n",
       "MRI-ESM2-0        1.368030  155.997464  0.000000e+00  4.738757e-03\n",
       "NESM3             1.621936  113.945680  1.417632e-13  6.627137e-03\n",
       "NorESM2-LM        2.230799  131.410211  0.000000e+00  9.282670e-02\n",
       "NorESM2-MM        2.232966  263.833693  0.000000e+00  8.187802e-02\n",
       "SAM0-UNICON       2.169676  208.259743 -4.866322e-14  6.444909e-02\n",
       "TaiESM1           2.224576  200.510359 -3.807373e-12  1.167243e-01"
      ]
     },
     "execution_count": 7,
     "metadata": {},
     "output_type": "execute_result"
    }
   ],
   "source": [
    "%%time\n",
    "# EDA (get mean, max, min, median by model)\n",
    "df.groupby('model')['rain (mm/day)'].agg(['mean', 'max', 'min', 'median'])"
   ]
  },
  {
   "attachments": {},
   "cell_type": "markdown",
   "id": "fd472468-6396-41cd-8ff9-1cc9be9bda90",
   "metadata": {},
   "source": [
    "| Team Member | Operating System | RAM | Processor | Is SSD | Time taken |\n",
    "|:-----------:|:----------------:|:---:|:---------:|:------:|:----------:|\n",
    "| Yaou        | Windows          | 16GB| Intel(R) Core(TM) i7-1165G7 CPU @ 2.80GHz |Yes            |6.83s          |\n",
    "| Morris      | Windows          | 8GB | Intel(R) Core(TM) i7-8550U CPU @ 1.80GHz   1.99 GHz | Yes    |10s            |\n",
    "| Markus      | Mac              | 24GB | M2       | Yes    |2.93s            |\n",
    "| Jenit       |  Ubunutu | 16GB |  AMD Ryzen 7 6800H with Radeon Graphics | Yes | 3.75s |"
   ]
  },
  {
   "cell_type": "markdown",
   "id": "eb5ec740-58c8-4f35-ad9f-90499bbc6a70",
   "metadata": {},
   "source": [
    "The time needed to load the data and to run the EDA is drastically shorter. Even the machine that cannot combine the `.csv` files can read the data with this method. With the time shortened, machines with better RAM and chips also took shorter time."
   ]
  },
  {
   "cell_type": "markdown",
   "id": "295bc298-f37a-4d51-bbc0-cd93eb6d1720",
   "metadata": {},
   "source": [
    "The second approach we are using is chaning the data type of the data to `float32` when loading it with `pandas`."
   ]
  },
  {
   "cell_type": "code",
   "execution_count": 8,
   "id": "7537a483-e8f9-46a0-a150-8e5e621ab2cd",
   "metadata": {},
   "outputs": [
    {
     "name": "stdout",
     "output_type": "stream",
     "text": [
      "CPU times: user 43.5 s, sys: 7.71 s, total: 51.2 s\n",
      "Wall time: 52.2 s\n"
     ]
    }
   ],
   "source": [
    "%%time\n",
    "# EDA (load data - change dtype)\n",
    "use_cols = ['rain (mm/day)', 'model']\n",
    "\n",
    "df32 = pd.read_csv(\"rainforest/combined.csv\",\n",
    "                   dtype={'lat_min':'float32',\n",
    "                          'lat_max':'float32',\n",
    "                          'lon_min':'float32',\n",
    "                          'lon_max':'float32',\n",
    "                          'rain (mm/day)':'float32'})"
   ]
  },
  {
   "attachments": {},
   "cell_type": "markdown",
   "id": "64b49225-8912-426e-9d62-9b656c3a7c1d",
   "metadata": {},
   "source": [
    "| Team Member | Operating System | RAM | Processor | Is SSD | Time taken |\n",
    "|:-----------:|:----------------:|:---:|:---------:|:------:|:----------:|\n",
    "| Yaou        | Windows          | 16GB| Intel(R) Core(TM) i7-1165G7 CPU @ 2.80GHz |Yes            |1min 17s          |\n",
    "| Morris      | Windows          | 8GB | Intel(R) Core(TM) i7-8550U CPU @ 1.80GHz   1.99 GHz | Yes    |5min 31s            |\n",
    "| Markus      | Mac              | 24GB | M2       | Yes    |37.7s            |\n",
    "| Jenit       |  Ubunutu | 16GB |  AMD Ryzen 7 6800H with Radeon Graphics | Yes | 52.2s |"
   ]
  },
  {
   "cell_type": "code",
   "execution_count": 9,
   "id": "8c5c5233-c2ae-4692-82e1-9b59bd022aac",
   "metadata": {},
   "outputs": [
    {
     "name": "stdout",
     "output_type": "stream",
     "text": [
      "CPU times: user 7.79 s, sys: 2.5 s, total: 10.3 s\n",
      "Wall time: 10.5 s\n"
     ]
    },
    {
     "data": {
      "text/html": [
       "<div>\n",
       "<style scoped>\n",
       "    .dataframe tbody tr th:only-of-type {\n",
       "        vertical-align: middle;\n",
       "    }\n",
       "\n",
       "    .dataframe tbody tr th {\n",
       "        vertical-align: top;\n",
       "    }\n",
       "\n",
       "    .dataframe thead th {\n",
       "        text-align: right;\n",
       "    }\n",
       "</style>\n",
       "<table border=\"1\" class=\"dataframe\">\n",
       "  <thead>\n",
       "    <tr style=\"text-align: right;\">\n",
       "      <th></th>\n",
       "      <th>Unnamed: 0</th>\n",
       "      <th>lat_min</th>\n",
       "      <th>lat_max</th>\n",
       "      <th>lon_min</th>\n",
       "      <th>lon_max</th>\n",
       "      <th>rain (mm/day)</th>\n",
       "    </tr>\n",
       "  </thead>\n",
       "  <tbody>\n",
       "    <tr>\n",
       "      <th>count</th>\n",
       "      <td>6.246784e+07</td>\n",
       "      <td>5.924854e+07</td>\n",
       "      <td>6.246784e+07</td>\n",
       "      <td>5.924854e+07</td>\n",
       "      <td>6.246784e+07</td>\n",
       "      <td>5.924854e+07</td>\n",
       "    </tr>\n",
       "    <tr>\n",
       "      <th>mean</th>\n",
       "      <td>1.479732e+06</td>\n",
       "      <td>-3.310472e+01</td>\n",
       "      <td>-3.197751e+01</td>\n",
       "      <td>1.469055e+02</td>\n",
       "      <td>1.482153e+02</td>\n",
       "      <td>1.901171e+00</td>\n",
       "    </tr>\n",
       "    <tr>\n",
       "      <th>std</th>\n",
       "      <td>1.070480e+06</td>\n",
       "      <td>1.963549e+00</td>\n",
       "      <td>1.992067e+00</td>\n",
       "      <td>3.793784e+00</td>\n",
       "      <td>3.809994e+00</td>\n",
       "      <td>5.585735e+00</td>\n",
       "    </tr>\n",
       "    <tr>\n",
       "      <th>min</th>\n",
       "      <td>0.000000e+00</td>\n",
       "      <td>-3.646739e+01</td>\n",
       "      <td>-3.600000e+01</td>\n",
       "      <td>1.406250e+02</td>\n",
       "      <td>1.412500e+02</td>\n",
       "      <td>-3.807373e-12</td>\n",
       "    </tr>\n",
       "    <tr>\n",
       "      <th>25%</th>\n",
       "      <td>5.805280e+05</td>\n",
       "      <td>-3.486911e+01</td>\n",
       "      <td>-3.366221e+01</td>\n",
       "      <td>1.434375e+02</td>\n",
       "      <td>1.450000e+02</td>\n",
       "      <td>3.838413e-06</td>\n",
       "    </tr>\n",
       "    <tr>\n",
       "      <th>50%</th>\n",
       "      <td>1.267234e+06</td>\n",
       "      <td>-3.300000e+01</td>\n",
       "      <td>-3.204189e+01</td>\n",
       "      <td>1.468750e+02</td>\n",
       "      <td>1.481250e+02</td>\n",
       "      <td>6.154947e-02</td>\n",
       "    </tr>\n",
       "    <tr>\n",
       "      <th>75%</th>\n",
       "      <td>2.273266e+06</td>\n",
       "      <td>-3.140170e+01</td>\n",
       "      <td>-3.015707e+01</td>\n",
       "      <td>1.501875e+02</td>\n",
       "      <td>1.513125e+02</td>\n",
       "      <td>1.020918e+00</td>\n",
       "    </tr>\n",
       "    <tr>\n",
       "      <th>max</th>\n",
       "      <td>5.154239e+06</td>\n",
       "      <td>-2.990000e+01</td>\n",
       "      <td>-2.790606e+01</td>\n",
       "      <td>1.537500e+02</td>\n",
       "      <td>1.556250e+02</td>\n",
       "      <td>4.329395e+02</td>\n",
       "    </tr>\n",
       "  </tbody>\n",
       "</table>\n",
       "</div>"
      ],
      "text/plain": [
       "         Unnamed: 0       lat_min       lat_max       lon_min       lon_max  \\\n",
       "count  6.246784e+07  5.924854e+07  6.246784e+07  5.924854e+07  6.246784e+07   \n",
       "mean   1.479732e+06 -3.310472e+01 -3.197751e+01  1.469055e+02  1.482153e+02   \n",
       "std    1.070480e+06  1.963549e+00  1.992067e+00  3.793784e+00  3.809994e+00   \n",
       "min    0.000000e+00 -3.646739e+01 -3.600000e+01  1.406250e+02  1.412500e+02   \n",
       "25%    5.805280e+05 -3.486911e+01 -3.366221e+01  1.434375e+02  1.450000e+02   \n",
       "50%    1.267234e+06 -3.300000e+01 -3.204189e+01  1.468750e+02  1.481250e+02   \n",
       "75%    2.273266e+06 -3.140170e+01 -3.015707e+01  1.501875e+02  1.513125e+02   \n",
       "max    5.154239e+06 -2.990000e+01 -2.790606e+01  1.537500e+02  1.556250e+02   \n",
       "\n",
       "       rain (mm/day)  \n",
       "count   5.924854e+07  \n",
       "mean    1.901171e+00  \n",
       "std     5.585735e+00  \n",
       "min    -3.807373e-12  \n",
       "25%     3.838413e-06  \n",
       "50%     6.154947e-02  \n",
       "75%     1.020918e+00  \n",
       "max     4.329395e+02  "
      ]
     },
     "execution_count": 9,
     "metadata": {},
     "output_type": "execute_result"
    }
   ],
   "source": [
    "%%time\n",
    "# EDA (.describe())\n",
    "df32.describe()"
   ]
  },
  {
   "attachments": {},
   "cell_type": "markdown",
   "id": "e6287b3e-6343-4486-9aa0-ba421e126c7c",
   "metadata": {},
   "source": [
    "| Team Member | Operating System | RAM | Processor | Is SSD | Time taken |\n",
    "|:-----------:|:----------------:|:---:|:---------:|:------:|:----------:|\n",
    "| Yaou        | Windows          | 16GB| Intel(R) Core(TM) i7-1165G7 CPU @ 2.80GHz |Yes            |10s          |\n",
    "| Morris      | Windows          | 8GB | Intel(R) Core(TM) i7-8550U CPU @ 1.80GHz   1.99 GHz | Yes    |43.4s            |\n",
    "| Markus      | Mac              | 24GB | M2       | Yes    |8.48s            |\n",
    "| Jenit       |  Ubunutu | 16GB |  AMD Ryzen 7 6800H with Radeon Graphics | Yes | 10.5s |"
   ]
  },
  {
   "cell_type": "markdown",
   "id": "4f067423-8fe4-4481-851e-8553fedf5612",
   "metadata": {},
   "source": [
    "The time needed to load the data and to run the EDA is also shorter. Even the machine that cannot combine the `.csv` files can read the data with this method. With the time shortened, machines with better RAM and chips also took shorter time. Changing the data type is less efficient than only loading the used columns in terms of improving the time and mememory used."
   ]
  },
  {
   "cell_type": "markdown",
   "id": "8d22e615-153a-4fac-8cd6-f9218106fe42",
   "metadata": {},
   "source": [
    "## Simple EDA in R"
   ]
  },
  {
   "cell_type": "markdown",
   "id": "d5351185-c7e3-4f72-87d8-6807ebcc0201",
   "metadata": {},
   "source": [
    "To transfer the data from `python` to `R`, we are using arrow. We chose this method because it is an approach optimizing memory usage, which is a more focused issue in this exercise."
   ]
  },
  {
   "cell_type": "code",
   "execution_count": null,
   "id": "db3b4a2a",
   "metadata": {},
   "outputs": [],
   "source": [
    "# import for R. Please change the path by referring to the result of `conda run -n 525_2023 python -m site`\n",
    "import os\n",
    "os.environ['R_HOME'] = '/opt/miniconda3/envs/525/lib/R'"
   ]
  },
  {
   "cell_type": "code",
   "execution_count": null,
   "id": "9323a327-0e1a-475f-9d39-c28fcfa8e48e",
   "metadata": {},
   "outputs": [],
   "source": [
    "%load_ext rpy2.ipython"
   ]
  },
  {
   "cell_type": "code",
   "execution_count": null,
   "id": "dbcdf9ba-25e6-4c14-b900-f30974e4608e",
   "metadata": {},
   "outputs": [
    {
     "name": "stdout",
     "output_type": "stream",
     "text": [
      "/Users/chnam/Library/CloudStorage/OneDrive-UBC/DSCI_525/milestone_1\n"
     ]
    }
   ],
   "source": [
    "# Please change the path for the data files\n",
    "%cd /Users/chnam/OneDrive - UBC/DSCI_525/milestone_1/"
   ]
  },
  {
   "cell_type": "markdown",
   "id": "a0436003-3212-41ae-b045-1c7450f2a8d8",
   "metadata": {},
   "source": [
    "We first loaded the data using `pyarrow` and convert the data into a `rarrow table`."
   ]
  },
  {
   "cell_type": "code",
   "execution_count": null,
   "id": "5545137a-f7db-44cc-ae9c-35955c195f5d",
   "metadata": {},
   "outputs": [],
   "source": [
    "# Use R and python interchangeably (with arrow)\n",
    "import pyarrow.dataset as ds\n",
    "import rpy2_arrow.pyarrow_rarrow as pyra"
   ]
  },
  {
   "cell_type": "code",
   "execution_count": null,
   "id": "606a5b7f-51d3-44ba-a157-ad6b2f440dcd",
   "metadata": {},
   "outputs": [
    {
     "name": "stdout",
     "output_type": "stream",
     "text": [
      "CPU times: user 12.1 s, sys: 2.08 s, total: 14.2 s\n",
      "Wall time: 19 s\n"
     ]
    }
   ],
   "source": [
    "%%time\n",
    "dataset = ds.dataset(\"rainforest/combined.csv\", format=\"csv\")\n",
    "\n",
    "# Converting the `pyarrow dataset` to a `pyarrow table`\n",
    "table = dataset.to_table()\n",
    "\n",
    "# Converting a `pyarrow table` to a `rarrow table`\n",
    "r_table = pyra.converter.py2rpy(table)"
   ]
  },
  {
   "cell_type": "markdown",
   "id": "aa311757-7ddb-411d-b0b6-64810038ff1a",
   "metadata": {},
   "source": [
    "We transfered the table to `R`, minimizing the time in serialization / deserialization."
   ]
  },
  {
   "cell_type": "code",
   "execution_count": null,
   "id": "ce2587e3-a7b4-4627-85b0-1f915f325258",
   "metadata": {},
   "outputs": [],
   "source": [
    "%%R\n",
    "suppressMessages(library(dplyr))\n",
    "suppressMessages(library(readr))"
   ]
  },
  {
   "cell_type": "code",
   "execution_count": null,
   "id": "749fd420-5c4c-4d79-815c-d994ff82f222",
   "metadata": {},
   "outputs": [
    {
     "name": "stdout",
     "output_type": "stream",
     "text": [
      "# A tibble: 27 × 2\n",
      "   model                  n\n",
      "   <chr>              <int>\n",
      " 1 MPI-ESM-1-2-HAM   966420\n",
      " 2 AWI-ESM-1-1-LR    966420\n",
      " 3 NorESM2-LM        919800\n",
      " 4 ACCESS-CM2       1932840\n",
      " 5 FGOALS-f3-L      3219300\n",
      " 6 CMCC-CM2-HR4     3541230\n",
      " 7 MRI-ESM2-0       3037320\n",
      " 8 GFDL-CM4         3219300\n",
      " 9 BCC-CSM2-MR      3035340\n",
      "10 EC-Earth3-Veg-LR 3037320\n",
      "# ℹ 17 more rows\n",
      "# ℹ Use `print(n = ...)` to see more rows\n",
      "Time difference of 0.02721 secs\n"
     ]
    }
   ],
   "source": [
    "%%R -i r_table\n",
    "# EDA (count by model)\n",
    "start_time <- Sys.time()\n",
    "result <- r_table %>%\n",
    "    select(model) %>%\n",
    "    count(model)\n",
    "end_time <- Sys.time()\n",
    "print(result %>% collect())\n",
    "print(end_time - start_time)"
   ]
  },
  {
   "cell_type": "code",
   "execution_count": null,
   "id": "124346e6-f9d9-426b-84ff-545d906b61da",
   "metadata": {},
   "outputs": [
    {
     "name": "stdout",
     "output_type": "stream",
     "text": [
      "# A tibble: 3,219,300 × 7\n",
      "   time                lat_min lat_max lon_min lon_max `rain (mm/day)` model    \n",
      "   <dttm>                <dbl>   <dbl>   <dbl>   <dbl>           <dbl> <chr>    \n",
      " 1 1913-09-19 04:00:00      NA     -36      NA    141.              NA GFDL-ESM4\n",
      " 2 1913-09-20 04:00:00      NA     -36      NA    141.              NA GFDL-ESM4\n",
      " 3 1913-09-21 04:00:00      NA     -36      NA    141.              NA GFDL-ESM4\n",
      " 4 1913-09-22 04:00:00      NA     -36      NA    141.              NA GFDL-ESM4\n",
      " 5 1913-09-23 04:00:00      NA     -36      NA    141.              NA GFDL-ESM4\n",
      " 6 1913-09-24 04:00:00      NA     -36      NA    141.              NA GFDL-ESM4\n",
      " 7 1913-09-25 04:00:00      NA     -36      NA    141.              NA GFDL-ESM4\n",
      " 8 1913-09-26 04:00:00      NA     -36      NA    141.              NA GFDL-ESM4\n",
      " 9 1913-09-27 04:00:00      NA     -36      NA    141.              NA GFDL-ESM4\n",
      "10 1913-09-28 04:00:00      NA     -36      NA    141.              NA GFDL-ESM4\n",
      "# ℹ 3,219,290 more rows\n",
      "# ℹ Use `print(n = ...)` to see more rows\n",
      "Time difference of 0.01959991 secs\n"
     ]
    }
   ],
   "source": [
    "%%R\n",
    "# EDA (list records with NA `rain (mm/day)`)\n",
    "start_time <- Sys.time()\n",
    "result <- r_table %>%\n",
    "    select(time, lat_min, lat_max, lon_min, lon_max, `rain (mm/day)`, model) %>%\n",
    "    filter(is.na(`rain (mm/day)`))\n",
    "end_time <- Sys.time()\n",
    "print(result %>% collect())\n",
    "print(end_time - start_time)"
   ]
  }
 ],
 "metadata": {
  "kernelspec": {
   "display_name": "525_2023",
   "language": "python",
   "name": "python3"
  },
  "language_info": {
   "codemirror_mode": {
    "name": "ipython",
    "version": 3
   },
   "file_extension": ".py",
   "mimetype": "text/x-python",
   "name": "python",
   "nbconvert_exporter": "python",
   "pygments_lexer": "ipython3",
   "version": "3.10.10"
  }
 },
 "nbformat": 4,
 "nbformat_minor": 5
}
